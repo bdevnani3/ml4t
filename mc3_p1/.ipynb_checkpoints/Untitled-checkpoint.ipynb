{
 "cells": [
  {
   "cell_type": "code",
   "execution_count": 4,
   "metadata": {
    "collapsed": false
   },
   "outputs": [
    {
     "name": "stdout",
     "output_type": "stream",
     "text": [
      "the secret clue is 'zzyzx'\n"
     ]
    }
   ],
   "source": [
    "# %load LinRegLearner.py\n",
    "\"\"\"\n",
    "A simple wrapper for linear regression.  (c) 2015 Tucker Balch\n",
    "\"\"\"\n",
    "\n",
    "import numpy as np\n",
    "\n",
    "class LinRegLearner(object):\n",
    "\n",
    "    def __init__(self, verbose = False):\n",
    "        pass # move along, these aren't the drones you're looking for\n",
    "\n",
    "    def addEvidence(self,dataX,dataY):\n",
    "        \"\"\"\n",
    "        @summary: Add training data to learner\n",
    "        @param dataX: X values of data to add\n",
    "        @param dataY: the Y training values\n",
    "        \"\"\"\n",
    "\n",
    "        # slap on 1s column so linear regression finds a constant term\n",
    "        newdataX = np.ones([dataX.shape[0],dataX.shape[1]+1])\n",
    "        newdataX[:,0:dataX.shape[1]]=dataX\n",
    "\n",
    "        # build and save the model\n",
    "        self.model_coefs, residuals, rank, s = np.linalg.lstsq(newdataX, dataY)\n",
    "        \n",
    "    def query(self,points):\n",
    "        \"\"\"\n",
    "        @summary: Estimate a set of test points given the model we built.\n",
    "        @param points: should be a numpy array with each row corresponding to a specific query.\n",
    "        @returns the estimated values according to the saved model.\n",
    "        \"\"\"\n",
    "        return (self.model_coefs[:-1] * points).sum(axis = 1) + self.model_coefs[-1]\n",
    "\n",
    "if __name__==\"__main__\":\n",
    "    print \"the secret clue is 'zzyzx'\"\n"
   ]
  },
  {
   "cell_type": "code",
   "execution_count": null,
   "metadata": {
    "collapsed": true
   },
   "outputs": [],
   "source": [
    "# %load testlearner.py\n",
    "\"\"\"\n",
    "Test a learner.  (c) 2015 Tucker Balch\n",
    "\"\"\"\n",
    "\n",
    "import numpy as np\n",
    "import math\n",
    "import LinRegLearner as lrl\n",
    "\n",
    "if __name__==\"__main__\":\n",
    "    inf = open('Data/ripple.csv')\n",
    "    data = np.array([map(float,s.strip().split(',')) for s in inf.readlines()])\n",
    "\n",
    "    # compute how much of the data is training and testing\n",
    "    train_rows = math.floor(0.6* data.shape[0])\n",
    "    test_rows = data.shape[0] - train_rows\n",
    "\n",
    "    # separate out training and testing data\n",
    "    trainX = data[:train_rows,0:-1]\n",
    "    trainY = data[:train_rows,-1]\n",
    "    testX = data[train_rows:,0:-1]\n",
    "    testY = data[train_rows:,-1]\n",
    "\n",
    "    print testX.shape\n",
    "    print testY.shape\n",
    "\n",
    "    # create a learner and train it\n",
    "    learner = lrl.LinRegLearner(verbose = True) # create a LinRegLearner\n",
    "    learner.addEvidence(trainX, trainY) # train it\n",
    "\n",
    "    # evaluate in sample\n",
    "    predY = learner.query(trainX) # get the predictions\n",
    "    rmse = math.sqrt(((trainY - predY) ** 2).sum()/trainY.shape[0])\n",
    "    print\n",
    "    print \"In sample results\"\n",
    "    print \"RMSE: \", rmse\n",
    "    c = np.corrcoef(predY, y=trainY)\n",
    "    print \"corr: \", c[0,1]\n",
    "\n",
    "    # evaluate out of sample\n",
    "    predY = learner.query(testX) # get the predictions\n",
    "    rmse = math.sqrt(((testY - predY) ** 2).sum()/testY.shape[0])\n",
    "    print\n",
    "    print \"Out of sample results\"\n",
    "    print \"RMSE: \", rmse\n",
    "    c = np.corrcoef(predY, y=testY)\n",
    "    print \"corr: \", c[0,1]\n",
    "\n",
    "    #learners = []\n",
    "    #for i in range(0,10):\n",
    "        #kwargs = {\"k\":i}\n",
    "        #learners.append(lrl.LinRegLearner(**kwargs))\n"
   ]
  },
  {
   "cell_type": "code",
   "execution_count": 7,
   "metadata": {
    "collapsed": false
   },
   "outputs": [
    {
     "data": {
      "text/plain": [
       "{'a': '6', 'b': '7'}"
      ]
     },
     "execution_count": 7,
     "metadata": {},
     "output_type": "execute_result"
    }
   ],
   "source": [
    " dict(a='6',b='7')"
   ]
  },
  {
   "cell_type": "code",
   "execution_count": 13,
   "metadata": {
    "collapsed": false
   },
   "outputs": [],
   "source": [
    "a = np.random.random((5,5))"
   ]
  },
  {
   "cell_type": "code",
   "execution_count": 14,
   "metadata": {
    "collapsed": false
   },
   "outputs": [
    {
     "data": {
      "text/plain": [
       "array([[ 0.60096922,  0.52337591,  0.91874355,  0.76102785,  0.56455702],\n",
       "       [ 0.63086049,  0.88606088,  0.61661155,  0.2624461 ,  0.24583625],\n",
       "       [ 0.01973378,  0.2772443 ,  0.62400951,  0.73075216,  0.45881075],\n",
       "       [ 0.22760621,  0.44380852,  0.84897319,  0.41005337,  0.14408671],\n",
       "       [ 0.4859172 ,  0.44626881,  0.02020651,  0.61070284,  0.61850924]])"
      ]
     },
     "execution_count": 14,
     "metadata": {},
     "output_type": "execute_result"
    }
   ],
   "source": [
    "a"
   ]
  },
  {
   "cell_type": "code",
   "execution_count": 16,
   "metadata": {
    "collapsed": false
   },
   "outputs": [
    {
     "data": {
      "text/plain": [
       "array([ 0.39301738,  0.51535169,  0.60570886,  0.55499646,  0.40635999])"
      ]
     },
     "execution_count": 16,
     "metadata": {},
     "output_type": "execute_result"
    }
   ],
   "source": [
    "a.mean(axis = 0)"
   ]
  },
  {
   "cell_type": "code",
   "execution_count": 18,
   "metadata": {
    "collapsed": false
   },
   "outputs": [
    {
     "data": {
      "text/plain": [
       "array([  5.85895073,  -3.8183966 ,   6.329727  ,  -6.98604677,\n",
       "        -6.14053172,   2.36659603,   3.86668298,   1.733075  ,\n",
       "        -0.09228146,  -2.45260826,   4.22871329,   5.80890507,\n",
       "         7.53110918,  -7.6109338 ,  -2.12253727,   4.56736187,\n",
       "         2.35359602,   3.38778883,  -2.2724162 ,  -8.9061816 ,\n",
       "        -0.68216519,  -4.80531501,  -5.66226691,  -5.00461601,\n",
       "        -0.32589687,   0.73597768,  -7.34531348,   3.39512039,\n",
       "        -5.27172539,  -1.12524847,   0.37580551,  -5.23132544,\n",
       "         4.44999466,  -6.37832277,  -7.67411802,  -0.79947696,\n",
       "         1.32454129,   2.86676807,   2.1174278 ,  -5.0071728 ,\n",
       "        -4.11866313,   4.51180757,   1.37091041,  -0.17085355,\n",
       "        -2.60851525,   6.53724333,   7.02397721,  -4.57015299,\n",
       "         0.90318312,  -0.23179443,  -8.51018714,  -1.73397673,\n",
       "        -1.3773961 , -10.67278314,  -3.81447756,  -7.48950398,\n",
       "         3.05657174,   2.59006565,  -7.34350663,   0.89428649,\n",
       "         2.74328734,  -2.91800882,   0.17205785,   0.83595073,\n",
       "        -0.67668491,  -1.01231982,   3.3244715 ,   0.61837185,\n",
       "         3.84561866,  -2.66905637,  -2.86369404,  -0.1489066 ,\n",
       "        -0.94412515,   2.1668206 ,   1.26972505,  -8.189318  ,\n",
       "        -1.64729417,   5.62661423,   4.85405043,  -2.43519381,\n",
       "         2.46185603,   1.56392931,   0.80945297,  -2.56448005,\n",
       "        -0.17488529,   2.69699672,  -1.58917891,  -9.34759342,\n",
       "        -6.55845757,  -2.4885617 ,  -2.80527526,  -4.85692347,\n",
       "        -4.4147393 ,   5.57342786,   9.24478315,  -1.81430187,\n",
       "         3.79915404,   2.2645528 ,   0.52427554,  -1.74251412])"
      ]
     },
     "execution_count": 18,
     "metadata": {},
     "output_type": "execute_result"
    }
   ],
   "source": [
    "np.random.randn(100)*5"
   ]
  },
  {
   "cell_type": "code",
   "execution_count": 22,
   "metadata": {
    "collapsed": false
   },
   "outputs": [
    {
     "name": "stdout",
     "output_type": "stream",
     "text": [
      "[ 0.2  0.7  1. ]\n"
     ]
    }
   ],
   "source": [
    "v = np.array([1,2,3])\n",
    "p = np.array([0.2,0.5,0.3])\n",
    "bins = np.cumsum(p)\n",
    "print bins"
   ]
  },
  {
   "cell_type": "code",
   "execution_count": 23,
   "metadata": {
    "collapsed": false
   },
   "outputs": [
    {
     "name": "stdout",
     "output_type": "stream",
     "text": [
      "Help on built-in function random_sample:\n",
      "\n",
      "random_sample(...)\n",
      "    random_sample(size=None)\n",
      "    \n",
      "    Return random floats in the half-open interval [0.0, 1.0).\n",
      "    \n",
      "    Results are from the \"continuous uniform\" distribution over the\n",
      "    stated interval.  To sample :math:`Unif[a, b), b > a` multiply\n",
      "    the output of `random_sample` by `(b-a)` and add `a`::\n",
      "    \n",
      "      (b - a) * random_sample() + a\n",
      "    \n",
      "    Parameters\n",
      "    ----------\n",
      "    size : int or tuple of ints, optional\n",
      "        Output shape.  If the given shape is, e.g., ``(m, n, k)``, then\n",
      "        ``m * n * k`` samples are drawn.  Default is None, in which case a\n",
      "        single value is returned.\n",
      "    \n",
      "    Returns\n",
      "    -------\n",
      "    out : float or ndarray of floats\n",
      "        Array of random floats of shape `size` (unless ``size=None``, in which\n",
      "        case a single float is returned).\n",
      "    \n",
      "    Examples\n",
      "    --------\n",
      "    >>> np.random.random_sample()\n",
      "    0.47108547995356098\n",
      "    >>> type(np.random.random_sample())\n",
      "    <type 'float'>\n",
      "    >>> np.random.random_sample((5,))\n",
      "    array([ 0.30220482,  0.86820401,  0.1654503 ,  0.11659149,  0.54323428])\n",
      "    \n",
      "    Three-by-two array of random numbers from [-5, 0):\n",
      "    \n",
      "    >>> 5 * np.random.random_sample((3, 2)) - 5\n",
      "    array([[-3.99149989, -0.52338984],\n",
      "           [-2.99091858, -0.79479508],\n",
      "           [-1.23204345, -1.75224494]])\n",
      "\n"
     ]
    }
   ],
   "source": [
    "help(np.random.random_sample)"
   ]
  },
  {
   "cell_type": "code",
   "execution_count": 25,
   "metadata": {
    "collapsed": false
   },
   "outputs": [
    {
     "data": {
      "text/plain": [
       "0.80000000000000004"
      ]
     },
     "execution_count": 25,
     "metadata": {},
     "output_type": "execute_result"
    }
   ],
   "source": [
    "np.power(0.64,0.5)"
   ]
  },
  {
   "cell_type": "code",
   "execution_count": 29,
   "metadata": {
    "collapsed": false
   },
   "outputs": [
    {
     "data": {
      "text/plain": [
       "array([1, 1, 1, 1, 1])"
      ]
     },
     "execution_count": 29,
     "metadata": {},
     "output_type": "execute_result"
    }
   ],
   "source": [
    "np.ones(5, dtype = 'int')"
   ]
  },
  {
   "cell_type": "code",
   "execution_count": 1,
   "metadata": {
    "collapsed": false
   },
   "outputs": [
    {
     "data": {
      "text/plain": [
       "array([ 0.77459667,  0.66453981,  0.6       ,  0.36      ])"
      ]
     },
     "execution_count": 1,
     "metadata": {},
     "output_type": "execute_result"
    }
   ],
   "source": [
    "np.power(0.6,[0.5, 0.8, 1, 2.0])"
   ]
  },
  {
   "cell_type": "code",
   "execution_count": 2,
   "metadata": {
    "collapsed": false
   },
   "outputs": [
    {
     "name": "stdout",
     "output_type": "stream",
     "text": [
      "Help on function meshgrid in module numpy.lib.function_base:\n",
      "\n",
      "meshgrid(*xi, **kwargs)\n",
      "    Return coordinate matrices from coordinate vectors.\n",
      "    \n",
      "    Make N-D coordinate arrays for vectorized evaluations of\n",
      "    N-D scalar/vector fields over N-D grids, given\n",
      "    one-dimensional coordinate arrays x1, x2,..., xn.\n",
      "    \n",
      "    .. versionchanged:: 1.9\n",
      "       1-D and 0-D cases are allowed.\n",
      "    \n",
      "    Parameters\n",
      "    ----------\n",
      "    x1, x2,..., xn : array_like\n",
      "        1-D arrays representing the coordinates of a grid.\n",
      "    indexing : {'xy', 'ij'}, optional\n",
      "        Cartesian ('xy', default) or matrix ('ij') indexing of output.\n",
      "        See Notes for more details.\n",
      "    \n",
      "        .. versionadded:: 1.7.0\n",
      "    sparse : bool, optional\n",
      "        If True a sparse grid is returned in order to conserve memory.\n",
      "        Default is False.\n",
      "    \n",
      "        .. versionadded:: 1.7.0\n",
      "    copy : bool, optional\n",
      "        If False, a view into the original arrays are returned in order to\n",
      "        conserve memory.  Default is True.  Please note that\n",
      "        ``sparse=False, copy=False`` will likely return non-contiguous\n",
      "        arrays.  Furthermore, more than one element of a broadcast array\n",
      "        may refer to a single memory location.  If you need to write to the\n",
      "        arrays, make copies first.\n",
      "    \n",
      "        .. versionadded:: 1.7.0\n",
      "    \n",
      "    Returns\n",
      "    -------\n",
      "    X1, X2,..., XN : ndarray\n",
      "        For vectors `x1`, `x2`,..., 'xn' with lengths ``Ni=len(xi)`` ,\n",
      "        return ``(N1, N2, N3,...Nn)`` shaped arrays if indexing='ij'\n",
      "        or ``(N2, N1, N3,...Nn)`` shaped arrays if indexing='xy'\n",
      "        with the elements of `xi` repeated to fill the matrix along\n",
      "        the first dimension for `x1`, the second for `x2` and so on.\n",
      "    \n",
      "    Notes\n",
      "    -----\n",
      "    This function supports both indexing conventions through the indexing\n",
      "    keyword argument.  Giving the string 'ij' returns a meshgrid with\n",
      "    matrix indexing, while 'xy' returns a meshgrid with Cartesian indexing.\n",
      "    In the 2-D case with inputs of length M and N, the outputs are of shape\n",
      "    (N, M) for 'xy' indexing and (M, N) for 'ij' indexing.  In the 3-D case\n",
      "    with inputs of length M, N and P, outputs are of shape (N, M, P) for\n",
      "    'xy' indexing and (M, N, P) for 'ij' indexing.  The difference is\n",
      "    illustrated by the following code snippet::\n",
      "    \n",
      "        xv, yv = meshgrid(x, y, sparse=False, indexing='ij')\n",
      "        for i in range(nx):\n",
      "            for j in range(ny):\n",
      "                # treat xv[i,j], yv[i,j]\n",
      "    \n",
      "        xv, yv = meshgrid(x, y, sparse=False, indexing='xy')\n",
      "        for i in range(nx):\n",
      "            for j in range(ny):\n",
      "                # treat xv[j,i], yv[j,i]\n",
      "    \n",
      "    In the 1-D and 0-D case, the indexing and sparse keywords have no effect.\n",
      "    \n",
      "    See Also\n",
      "    --------\n",
      "    index_tricks.mgrid : Construct a multi-dimensional \"meshgrid\"\n",
      "                     using indexing notation.\n",
      "    index_tricks.ogrid : Construct an open multi-dimensional \"meshgrid\"\n",
      "                     using indexing notation.\n",
      "    \n",
      "    Examples\n",
      "    --------\n",
      "    >>> nx, ny = (3, 2)\n",
      "    >>> x = np.linspace(0, 1, nx)\n",
      "    >>> y = np.linspace(0, 1, ny)\n",
      "    >>> xv, yv = meshgrid(x, y)\n",
      "    >>> xv\n",
      "    array([[ 0. ,  0.5,  1. ],\n",
      "           [ 0. ,  0.5,  1. ]])\n",
      "    >>> yv\n",
      "    array([[ 0.,  0.,  0.],\n",
      "           [ 1.,  1.,  1.]])\n",
      "    >>> xv, yv = meshgrid(x, y, sparse=True)  # make sparse output arrays\n",
      "    >>> xv\n",
      "    array([[ 0. ,  0.5,  1. ]])\n",
      "    >>> yv\n",
      "    array([[ 0.],\n",
      "           [ 1.]])\n",
      "    \n",
      "    `meshgrid` is very useful to evaluate functions on a grid.\n",
      "    \n",
      "    >>> x = np.arange(-5, 5, 0.1)\n",
      "    >>> y = np.arange(-5, 5, 0.1)\n",
      "    >>> xx, yy = meshgrid(x, y, sparse=True)\n",
      "    >>> z = np.sin(xx**2 + yy**2) / (xx**2 + yy**2)\n",
      "    >>> h = plt.contourf(x,y,z)\n",
      "\n"
     ]
    }
   ],
   "source": [
    "help(np.meshgrid)"
   ]
  },
  {
   "cell_type": "code",
   "execution_count": 4,
   "metadata": {
    "collapsed": true
   },
   "outputs": [],
   "source": [
    "%matplotlib inline\n",
    "from mpl_toolkits.mplot3d import *\n",
    "import matplotlib.pyplot as plt\n",
    "import numpy as np\n",
    "from random import random, seed\n",
    "from matplotlib import cm"
   ]
  },
  {
   "cell_type": "code",
   "execution_count": 10,
   "metadata": {
    "collapsed": false
   },
   "outputs": [
    {
     "data": {
      "text/plain": [
       "<matplotlib.figure.Figure at 0x7f9c74a05a10>"
      ]
     },
     "metadata": {},
     "output_type": "display_data"
    },
    {
     "data": {
      "image/png": "[encoded data removed]",
      "text/plain": [
       "<matplotlib.figure.Figure at 0x7f9c745e8650>"
      ]
     },
     "metadata": {},
     "output_type": "display_data"
    }
   ],
   "source": [
    "plt.clf()\n",
    "fig = plt.figure()\n",
    "ax = fig.gca(projection='3d')               # to work in 3d\n",
    "plt.hold(True)\n",
    "x_surf=np.arange(0, 1, 0.01)                # generate a mesh\n",
    "y_surf=np.arange(0, 1, 0.01)\n",
    "x_surf, y_surf = np.meshgrid(x_surf, y_surf)\n",
    "z_surf = np.sqrt(x_surf+y_surf)             # ex. function, which depends on x and y\n",
    "ax.plot_surface(x_surf, y_surf, z_surf, alpha = 0.3, linewidth=0, cmap=cm.hot);    # plot a 3d surface plot\n",
    "\n",
    "n = 100\n",
    "seed(0)                                     # seed let us to have a reproducible set of random numbers\n",
    "x=[random() for i in range(n)]              # generate n random points\n",
    "y=[random() for i in range(n)]\n",
    "z=[random() for i in range(n)]\n",
    "ax.scatter(x, y, z);                        # plot a 3d scatter plot\n",
    "\n",
    "ax.set_xlabel('x label')\n",
    "ax.set_ylabel('y label')\n",
    "ax.set_zlabel('z label')\n",
    "\n",
    "plt.show()"
   ]
  },
  {
   "cell_type": "code",
   "execution_count": 8,
   "metadata": {
    "collapsed": true
   },
   "outputs": [],
   "source": []
  },
  {
   "cell_type": "code",
   "execution_count": 6,
   "metadata": {
    "collapsed": false
   },
   "outputs": [
    {
     "name": "stdout",
     "output_type": "stream",
     "text": [
      "Help on method plot_surface in module mpl_toolkits.mplot3d.axes3d:\n",
      "\n",
      "plot_surface(self, X, Y, Z, *args, **kwargs) method of matplotlib.axes._subplots.Axes3DSubplot instance\n",
      "    Create a surface plot.\n",
      "    \n",
      "    By default it will be colored in shades of a solid color,\n",
      "    but it also supports color mapping by supplying the *cmap*\n",
      "    argument.\n",
      "    \n",
      "    The `rstride` and `cstride` kwargs set the stride used to\n",
      "    sample the input data to generate the graph.  If 1k by 1k\n",
      "    arrays are passed in the default values for the strides will\n",
      "    result in a 100x100 grid being plotted.\n",
      "    \n",
      "    ============= ================================================\n",
      "    Argument      Description\n",
      "    ============= ================================================\n",
      "    *X*, *Y*, *Z* Data values as 2D arrays\n",
      "    *rstride*     Array row stride (step size), defaults to 10\n",
      "    *cstride*     Array column stride (step size), defaults to 10\n",
      "    *color*       Color of the surface patches\n",
      "    *cmap*        A colormap for the surface patches.\n",
      "    *facecolors*  Face colors for the individual patches\n",
      "    *norm*        An instance of Normalize to map values to colors\n",
      "    *vmin*        Minimum value to map\n",
      "    *vmax*        Maximum value to map\n",
      "    *shade*       Whether to shade the facecolors\n",
      "    ============= ================================================\n",
      "    \n",
      "    Other arguments are passed on to\n",
      "    :class:`~mpl_toolkits.mplot3d.art3d.Poly3DCollection`\n",
      "\n"
     ]
    }
   ],
   "source": [
    "help(ax.plot_surface)"
   ]
  },
  {
   "cell_type": "code",
   "execution_count": 17,
   "metadata": {
    "collapsed": false
   },
   "outputs": [
    {
     "name": "stdout",
     "output_type": "stream",
     "text": [
      "(2000, 2)\n",
      "(2000,)\n",
      "[ 16.66666667  16.66666667  16.66666667]\n"
     ]
    }
   ],
   "source": [
    "# %load best4knn.py\n",
    "import numpy as np\n",
    "def data_gen(num = 2000):\n",
    "    X1 = np.random.random((num/2,2)) * 10 \n",
    "    Y1 = np.array([np.zeros(num/2)]).T\n",
    "    X2 = np.random.random((num/2,2)) * 10  + np.array([10,10])\n",
    "    Y2 = np.array([np.zeros(num/2)]).T + 100\n",
    "    X = np.concatenate((X1,X2),axis = 0)\n",
    "    Y = np.concatenate((Y1,Y2),axis = 0)\n",
    "    return np.concatenate((X,Y),axis = 1)\n",
    "\n",
    "data = data_gen()\n",
    "dataX = data[:,:-1]\n",
    "dataY = data[:,-1]\n",
    "newdataX = np.ones([dataX.shape[0],dataX.shape[1]+1])\n",
    "newdataX[:,0:dataX.shape[1]]=dataX\n",
    "print dataX.shape\n",
    "print dataY.shape\n",
    "coefs, residuals, rank, s =\\\n",
    "np.linalg.lstsq(newdataX, dataY)\n",
    "print coefs"
   ]
  },
  {
   "cell_type": "code",
   "execution_count": 22,
   "metadata": {
    "collapsed": false
   },
   "outputs": [
    {
     "data": {
      "text/plain": [
       "array([[ 1.,  1.,  1.],\n",
       "       [ 1.,  1.,  1.],\n",
       "       [ 1.,  1.,  1.],\n",
       "       ..., \n",
       "       [ 1.,  1.,  1.],\n",
       "       [ 1.,  1.,  1.],\n",
       "       [ 1.,  1.,  1.]])"
      ]
     },
     "execution_count": 22,
     "metadata": {},
     "output_type": "execute_result"
    }
   ],
   "source": [
    "newdataX"
   ]
  },
  {
   "cell_type": "code",
   "execution_count": 19,
   "metadata": {
    "collapsed": false
   },
   "outputs": [
    {
     "data": {
      "text/plain": [
       "<matplotlib.figure.Figure at 0x7f9c74091310>"
      ]
     },
     "metadata": {},
     "output_type": "display_data"
    },
    {
     "data": {
      "image/png": "[encoded data removed]",
      "text/plain": [
       "<matplotlib.figure.Figure at 0x7f9c746768d0>"
      ]
     },
     "metadata": {},
     "output_type": "display_data"
    },
    {
     "data": {
      "text/plain": [
       "<matplotlib.figure.Figure at 0x7f9c74181190>"
      ]
     },
     "metadata": {},
     "output_type": "display_data"
    }
   ],
   "source": [
    "plt.clf()\n",
    "a, b, c = coefs\n",
    "fig = plt.figure()\n",
    "ax = fig.gca(projection = '3d')\n",
    "ax.scatter(data[:,0], data[:,1], data[:,2]) \n",
    "ax.set_xlabel('$x$')\n",
    "ax.set_ylabel('$y$')\n",
    "ax.set_zlabel('$z$')\n",
    "\n",
    "x_surf = np.arange(-5, 25, 0.1)\n",
    "y_surf = np.arange(-5, 25, 0.1)\n",
    "x_surf, y_surf = np.meshgrid(x_surf, y_surf)\n",
    "z_surf = a*x_surf + b*y_surf - c\n",
    "ax.plot_surface(x_surf,y_surf,z_surf, alpha = 0.45, linewidth=0, color = 'red')\n",
    "plt.show()\n",
    "plt.savefig('b4k.png', bbox_inches='tight')"
   ]
  },
  {
   "cell_type": "code",
   "execution_count": null,
   "metadata": {
    "collapsed": true
   },
   "outputs": [],
   "source": []
  }
 ],
 "metadata": {
  "kernelspec": {
   "display_name": "Python 2",
   "language": "python",
   "name": "python2"
  },
  "language_info": {
   "codemirror_mode": {
    "name": "ipython",
    "version": 2
   },
   "file_extension": ".py",
   "mimetype": "text/x-python",
   "name": "python",
   "nbconvert_exporter": "python",
   "pygments_lexer": "ipython2",
   "version": "2.7.11"
  },
  "latex_envs": {
   "bibliofile": "biblio.bib",
   "cite_by": "apalike",
   "current_citInitial": 1,
   "eqLabelWithNumbers": true,
   "eqNumInitial": 0
  }
 },
 "nbformat": 4,
 "nbformat_minor": 0
}
