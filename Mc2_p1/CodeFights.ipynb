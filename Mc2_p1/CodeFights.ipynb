{
 "cells": [
  {
   "cell_type": "code",
   "execution_count": 12,
   "metadata": {
    "collapsed": true
   },
   "outputs": [],
   "source": [
    "requests = [\"I need a new window.\", \n",
    " \"I really, really want to replace my window!\", \n",
    " \"Replace my window.\", \n",
    " \"I want a new window.\", \n",
    " \"I want a new carpet, I want a new carpet, I want a new carpet.\", \n",
    " \"Replace my carpet\"]\n",
    "IDs = [374, 2845, 83, 1848, 1837, 1500]\n",
    "threshold = 0.5"
   ]
  },
  {
   "cell_type": "code",
   "execution_count": 13,
   "metadata": {
    "collapsed": true
   },
   "outputs": [],
   "source": [
    "def spamClusterization(requests, IDs, threshold):\n",
    "    allsets = []\n",
    "    for request in requests:\n",
    "        words = list(set([s.lower() for s in request.split()]))\n",
    "        for word in words:\n",
    "            temp = ''.join(c for c in word if c.isalnum() or c.isspace())\n",
    "            if temp != word:\n",
    "                temp = temp.split()\n",
    "                words.remove(word)\n",
    "                for w in temp:\n",
    "                    if w not in words:\n",
    "                        words.append(w)\n",
    "        allsets.append(words)\n",
    "    inbs = {i:[] for i in range(len(allsets))}\n",
    "    for i in range(len(allsets) - 1):\n",
    "        for j in range(i+1, len(allsets)):\n",
    "            if float(len( set(allsets[i]) & set(allsets[j]) ))/len( set(allsets[i]) | set(allsets[j]) ) >= threshold:\n",
    "                inbs[i].append(j)\n",
    "                inbs[j].append(i)\n",
    "    INBS = {}\n",
    "    for key, val in inbs.iteritems():\n",
    "        if len(val) != 0:\n",
    "            INBS[key] = val\n",
    "    print INBS\n",
    "    S = sorted(INBS.keys())\n",
    "    AllCs = []\n",
    "    DONE = False\n",
    "    while not DONE:\n",
    "        Q = [S[0]]\n",
    "        C = []\n",
    "        print 'S: ', S\n",
    "        while len(Q) > 0:\n",
    "            i = Q.pop(0)\n",
    "            S.remove(i)\n",
    "            C.append(i)\n",
    "            for j in INBS[i]:\n",
    "                #if INBS.has_key(j):\n",
    "                INBS[j].remove(i)\n",
    "                Q.append(j)\n",
    "        AllCs.append(C)\n",
    "        if len(S) == 0:\n",
    "            DONE = True\n",
    "    return sorted([sorted([IDs[i] for i in C]) for C in AllCs])"
   ]
  },
  {
   "cell_type": "code",
   "execution_count": 14,
   "metadata": {
    "collapsed": false
   },
   "outputs": [
    {
     "name": "stdout",
     "output_type": "stream",
     "text": [
      "{0: [3], 2: [5], 3: [0, 4], 4: [3], 5: [2]}\n",
      "S:  [0, 2, 3, 4, 5]\n",
      "S:  [2, 5]\n"
     ]
    },
    {
     "data": {
      "text/plain": [
       "[[83, 1500], [374, 1837, 1848]]"
      ]
     },
     "execution_count": 14,
     "metadata": {},
     "output_type": "execute_result"
    }
   ],
   "source": [
    "spamClusterization(requests, IDs, threshold)"
   ]
  },
  {
   "cell_type": "code",
   "execution_count": null,
   "metadata": {
    "collapsed": true
   },
   "outputs": [],
   "source": []
  }
 ],
 "metadata": {
  "kernelspec": {
   "display_name": "Python 2",
   "language": "python",
   "name": "python2"
  },
  "language_info": {
   "codemirror_mode": {
    "name": "ipython",
    "version": 2
   },
   "file_extension": ".py",
   "mimetype": "text/x-python",
   "name": "python",
   "nbconvert_exporter": "python",
   "pygments_lexer": "ipython2",
   "version": "2.7.11"
  },
  "latex_envs": {
   "bibliofile": "biblio.bib",
   "cite_by": "apalike",
   "current_citInitial": 1,
   "eqLabelWithNumbers": true,
   "eqNumInitial": 0
  }
 },
 "nbformat": 4,
 "nbformat_minor": 0
}
