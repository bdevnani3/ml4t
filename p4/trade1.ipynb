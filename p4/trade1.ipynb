{
 "cells": [
  {
   "cell_type": "code",
   "execution_count": 138,
   "metadata": {
    "collapsed": false
   },
   "outputs": [],
   "source": [
    "# %load trade.py\n",
    "import numpy as np\n",
    "import pandas as pd\n",
    "import KNNLearner as knn\n",
    "import LinRegLearner as ll\n",
    "import BagLearner as bl\n",
    "import datetime as dt\n",
    "import matplotlib.pyplot as plt\n",
    "from sklearn import linear_model\n",
    "from util import get_data, plot_data\n",
    "\n",
    "# get price data: Sine, IBM\n",
    "start_date = dt.datetime(2007,12,31)\n",
    "end_date = dt.datetime(2009,12,31)\n",
    "symbols = ['IBM','SINE_FAST','SINE_SLOW','GOOG','AAPL','XOM']\n",
    "dates = pd.date_range(start_date, end_date)\n",
    "prices_all = get_data(symbols, dates)\n",
    "\n",
    "tag = 'IBM'\n",
    "pibm = prices_all[tag]\n",
    "\n",
    "# contruct features X\n",
    "def get_feature(pibm):\n",
    "    indates = dates[1:]\n",
    "    sma = pibm.rolling(window = 20, min_periods=0)\n",
    "    bbup = sma.mean() + 2*sma.std() \n",
    "    bblow = sma.mean() - 2*sma.std() \n",
    "    bbands = pd.DataFrame({'price':pibm[1:], 'sma':sma.mean()[1:], 'ub':bbup[1:], 'lb':bblow[1]})\n",
    "    bbvals = (pibm[1:] - sma.mean()[1:])/(4*sma.std()[1:])\n",
    "    vtl = sma.std()[1:]/sma.mean()[1:]*8\n",
    "    mmtn5 = pibm.values[5:]/pibm.values[:-5]-1\n",
    "    X = pd.DataFrame({'x0':bbvals[4:-5], 'vtl':vtl[4:-5],'x5':mmtn5[:-5]})\n",
    "    return X, bbvals[4:-5]\n",
    "\n",
    "# construct Y\n",
    "def get_Y(pibm):\n",
    "    Y = pibm.values[5:] \n",
    "    Y = Y[5:]/Y[:-5] - 1\n",
    "    return Y\n",
    "\n",
    "def trade(pfl):\n",
    "    for idx in range(pfl.shape[0]-5):\n",
    "        if pfl['pred'].ix[idx] < pfl['pred'].ix[idx+5]:\n",
    "            if pfl['shares'].ix[idx] <= 0:\n",
    "                pfl['cash'].ix[idx:] = pfl['cash'].ix[idx] - pfl['price'].ix[idx]*(100 - pfl['shares'].ix[idx])\n",
    "                pfl['shares'].ix[idx:] = 100\n",
    "        if pfl['pred'].ix[idx] > pfl['pred'].ix[idx+5]:\n",
    "            if pfl['shares'].ix[idx] >= 0:\n",
    "                pfl['cash'].ix[idx:] = pfl['cash'].ix[idx] + pfl['price'].ix[idx]*(100 + pfl['shares'].ix[idx])\n",
    "                pfl['shares'].ix[idx:] = -100\n",
    "    pv = pfl['price']*pfl['shares'] + pfl['cash']\n",
    "    return pv \n",
    "    \n",
    "def train(X, Y):\n",
    "    kl = knn.KNNLearner()\n",
    "    Ypred = np.zeros(Y.size)\n",
    "    Ypred[:5] = Y[:5]\n",
    "    for i in range(5, X.shape[0]):\n",
    "        kl.addEvidence(X.values[:i], Y[:i])\n",
    "        Ypred[i] = kl.query(X.values[i])[0]\n",
    "    return Ypred, kl"
   ]
  },
  {
   "cell_type": "code",
   "execution_count": 139,
   "metadata": {
    "collapsed": false
   },
   "outputs": [],
   "source": [
    "#----------------------In-sample test-----------------------------#\n",
    "X, bbvs = get_feature(pibm)\n",
    "Y = get_Y(pibm)\n",
    "\n",
    "Ypred, kl = train(X, Y)\n",
    "# convert predicted Y back to price, in-sample backtest\n",
    "ppred = pibm.values[5:-5]*(Ypred + 1)\n",
    "\n",
    "pdiff = pd.DataFrame(index = pibm.index[10:], data = {'price':pibm.values[10:], 'pred':ppred})\n",
    "plot_data(pdiff)\n",
    "\n",
    "ppred = pd.Series(index = pibm.index[10:], data = ppred)# convert numpy array to pandas.Series\n",
    "\n",
    "# initial portfolio\n",
    "pfl = pd.DataFrame({'price':pibm[10:], 'pred':ppred, 'bbvs':bbvs.values, 'shares':np.zeros(ppred.size), 'cash':np.ones(ppred.size)*10000})\n",
    "\n",
    "# trading\n",
    "pv = trade(pfl)\n",
    "pspy = prices_all['SPY'][pfl.index]\n",
    "pfl_vs_spy = pd.DataFrame(index = pfl.index, data = {'my_portval':pv/pv.ix[0], 'SPY':pspy/pspy.ix[0]})\n",
    "plot_data(pfl_vs_spy, title = \"My_Portfolio vs SPY\", ylabel = \"Accumulative Return\")"
   ]
  },
  {
   "cell_type": "code",
   "execution_count": 141,
   "metadata": {
    "collapsed": false
   },
   "outputs": [],
   "source": [
    "plt.plot(Ypred, label = 'pred')\n",
    "plt.plot(Y, label = 'train')\n",
    "plt.legend()\n",
    "plt.show()\n",
    "plt.clf()"
   ]
  },
  {
   "cell_type": "code",
   "execution_count": 142,
   "metadata": {
    "collapsed": false
   },
   "outputs": [],
   "source": [
    "indates = dates[1:]\n",
    "sma = pibm.rolling(window = 20, min_periods=0)\n",
    "bbup = sma.mean() + 2*sma.std() \n",
    "bblow = sma.mean() - 2*sma.std() \n",
    "bbands = pd.DataFrame({'price':pibm[10:], 'sma':sma.mean()[10:], 'ub':bbup[10:], 'lb':bblow[10:],'ppred':ppred})\n",
    "plot_data(bbands)\n",
    "bbvals = (pibm[1:] - sma.mean()[1:])/(4*sma.std()[1:])\n",
    "plot_data(bbvals)\n",
    "pbbvals = (ppred - sma.mean()[10:])/(4*sma.std()[1:])\n",
    "plot_data(pbbvals)"
   ]
  },
  {
   "cell_type": "code",
   "execution_count": 143,
   "metadata": {
    "collapsed": false
   },
   "outputs": [],
   "source": [
    "sma80 = pibm.rolling(window = 80, min_periods=0)\n",
    "sma40 = pibm.rolling(window = 40, min_periods=0)\n",
    "sma10 = pibm.rolling(window = 10, min_periods=0)\n",
    "psma80 = ppred.rolling(window = 80, min_periods=0)\n",
    "psma40 = ppred.rolling(window = 40, min_periods=0)\n",
    "psma10 = ppred.rolling(window = 10, min_periods=0)\n",
    "\n",
    "signals = pd.DataFrame({'psma10':psma10.mean()[1:],'psma40':psma40.mean()[1:],'price':pibm[1:]})\n",
    "plot_data(signals)"
   ]
  },
  {
   "cell_type": "code",
   "execution_count": 196,
   "metadata": {
    "collapsed": false
   },
   "outputs": [
    {
     "data": {
      "text/plain": [
       "23"
      ]
     },
     "execution_count": 196,
     "metadata": {},
     "output_type": "execute_result"
    }
   ],
   "source": [
    "np.where(pbbvals > 0.5)[0].size "
   ]
  },
  {
   "cell_type": "code",
   "execution_count": 197,
   "metadata": {
    "collapsed": false
   },
   "outputs": [
    {
     "data": {
      "text/plain": [
       "26"
      ]
     },
     "execution_count": 197,
     "metadata": {},
     "output_type": "execute_result"
    }
   ],
   "source": [
    "np.where(pbbvals < -0.5)[0].size "
   ]
  },
  {
   "cell_type": "code",
   "execution_count": 175,
   "metadata": {
    "collapsed": false
   },
   "outputs": [
    {
     "data": {
      "text/plain": [
       "52"
      ]
     },
     "execution_count": 175,
     "metadata": {},
     "output_type": "execute_result"
    }
   ],
   "source": [
    "len(set(np.where(pbbvals > 0.5)[0].tolist()).symmetric_difference(np.where(bbvals > 0.5)[0].tolist()))"
   ]
  },
  {
   "cell_type": "code",
   "execution_count": 145,
   "metadata": {
    "collapsed": false
   },
   "outputs": [
    {
     "data": {
      "text/plain": [
       "0.02921260308272721"
      ]
     },
     "execution_count": 145,
     "metadata": {},
     "output_type": "execute_result"
    }
   ],
   "source": [
    "vtl = sma.std()/sma.mean()\n",
    "vtl.mean()"
   ]
  },
  {
   "cell_type": "code",
   "execution_count": 144,
   "metadata": {
    "collapsed": false
   },
   "outputs": [],
   "source": [
    "#------------------------Out-Sample test---------------------------# \n",
    "tsd = dt.datetime(2009,12,31)\n",
    "ted = dt.datetime(2011,12,31)\n",
    "symbols = [tag]\n",
    "dates = pd.date_range(tsd, ted)\n",
    "tprices = get_data(symbols, dates)\n",
    "tpibm = tprices[tag]\n",
    "\n",
    "tX, _ = get_feature(tpibm)\n",
    "# compare to the true price\n",
    "tYpred = kl.query(tX.values)\n",
    "tppred = tpibm.values[5:-5]*(tYpred + 1)\n",
    "tppred = pd.Series(index = tpibm.index[10:], data = tppred)# convert numpy array to pandas.Series\n",
    "#tppred = tpibm.values[5:-5]*(tX.values.dot(clf.coef_.T) + clf.intercept_ + 1)\n",
    "tpdiff = pd.DataFrame(index = tpibm.index[10:], data = {'price':tpibm.values[10:], 'pred':tppred})\n",
    "plot_data(tpdiff)\n",
    "\n",
    "tpfl = pd.DataFrame({'price':tpibm[10:], 'pred':tppred, 'shares':np.zeros(tppred.size), 'cash':np.ones(tppred.size)*10000})\n",
    "tpv = trade(tpfl)\n",
    "\n",
    "tpspy = tprices['SPY'][tpfl.index]\n",
    "tpfl_vs_tspy = pd.DataFrame(index = tpfl.index, data = {'my_portval':tpv/tpv.ix[0], 'SPY':tpspy/tpspy.ix[0]})\n",
    "plot_data(tpfl_vs_tspy, title = \"My_Portfolio vs SPY\", ylabel = \"Accumulative Return\")\n",
    "\n",
    "\n",
    "# For report"
   ]
  },
  {
   "cell_type": "code",
   "execution_count": 95,
   "metadata": {
    "collapsed": true
   },
   "outputs": [],
   "source": [
    "tsma80 = tpibm.rolling(window = 80, min_periods=0)\n",
    "tsma40 = tpibm.rolling(window = 40, min_periods=0)\n",
    "tsma10 = tpibm.rolling(window = 10, min_periods=0)\n",
    "tpsma80 = tppred.rolling(window = 80, min_periods=0)\n",
    "tpsma40 = tppred.rolling(window = 40, min_periods=0)\n",
    "tpsma10 = tppred.rolling(window = 10, min_periods=0)\n",
    "\n",
    "tsignals = pd.DataFrame({'tpsma40':tpsma40.mean()[1:],'price':tpibm[1:]})\n",
    "plot_data(tsignals)"
   ]
  },
  {
   "cell_type": "code",
   "execution_count": 109,
   "metadata": {
    "collapsed": false
   },
   "outputs": [],
   "source": [
    "ibmema10 = pibm.ewm(span = 10, min_periods = 0).mean() \n",
    "ibmema20 = pibm.ewm(span = 20, min_periods = 0).mean()\n",
    "ibmema40 = pibm.ewm(span = 40, min_periods = 0).mean()\n",
    "pibmema10 = ppred.ewm(span = 10, min_periods = 0).mean() \n",
    "pibmema20 = ppred.ewm(span = 20, min_periods = 0).mean()\n",
    "pibmema40 = ppred.ewm(span = 40, min_periods = 0).mean()\n",
    "tibmema10 = tpibm.ewm(span = 10, min_periods = 0).mean() \n",
    "tibmema20 = tpibm.ewm(span = 20, min_periods = 0).mean()\n",
    "tibmema40 = tpibm.ewm(span = 40, min_periods = 0).mean()\n",
    "tpibmema10 = tppred.ewm(span = 10, min_periods = 0).mean() \n",
    "tpibmema20 = tppred.ewm(span = 20, min_periods = 0).mean()\n",
    "tpibmema40 = tppred.ewm(span = 40, min_periods = 0).mean()\n",
    "\n",
    "emas = pd.DataFrame({'ema10':ibmema10, 'ema40':ibmema40, 'price':pibm})\n",
    "plot_data(emas)\n",
    "temas = pd.DataFrame({'ema10':tibmema10, 'ema40':tibmema40, 'price':tpibm})\n",
    "plot_data(temas)"
   ]
  },
  {
   "cell_type": "code",
   "execution_count": 128,
   "metadata": {
    "collapsed": true
   },
   "outputs": [],
   "source": [
    "emas_cmp = pd.DataFrame({'pema40':pibmema40, 'pema20':pibmema20,'price':pibm})\n",
    "plot_data(emas_cmp)"
   ]
  },
  {
   "cell_type": "code",
   "execution_count": 129,
   "metadata": {
    "collapsed": true
   },
   "outputs": [],
   "source": [
    "emas_cmp = pd.DataFrame({'pema40':tibmema40, 'pema20':tibmema20,'price':tpibm})\n",
    "plot_data(emas_cmp)"
   ]
  },
  {
   "cell_type": "code",
   "execution_count": 115,
   "metadata": {
    "collapsed": false
   },
   "outputs": [
    {
     "data": {
      "text/plain": [
       "2007-12-31     99.270000\n",
       "2008-01-02     97.665875\n",
       "2008-01-03     97.201639\n",
       "2008-01-04     96.036192\n",
       "2008-01-07     95.119806\n",
       "2008-01-08     94.084875\n",
       "2008-01-09     93.456484\n",
       "2008-01-10     93.205509\n",
       "2008-01-11     92.733695\n",
       "2008-01-14     92.956357\n",
       "2008-01-15     93.021338\n",
       "2008-01-16     93.054704\n",
       "2008-01-17     93.033815\n",
       "2008-01-18     93.220434\n",
       "2008-01-22     93.196360\n",
       "2008-01-23     93.572226\n",
       "2008-01-24     93.964726\n",
       "2008-01-25     94.131184\n",
       "2008-01-28     94.312426\n",
       "2008-01-29     94.553750\n",
       "2008-01-30     94.738795\n",
       "2008-01-31     95.003547\n",
       "2008-02-01     95.372303\n",
       "2008-02-04     95.633885\n",
       "2008-02-05     95.689675\n",
       "2008-02-06     95.676958\n",
       "2008-02-07     95.588925\n",
       "2008-02-08     95.563746\n",
       "2008-02-11     95.650171\n",
       "2008-02-12     95.810891\n",
       "                 ...    \n",
       "2009-11-18    117.155922\n",
       "2009-11-19    117.370755\n",
       "2009-11-20    117.547791\n",
       "2009-11-23    117.774240\n",
       "2009-11-24    117.976960\n",
       "2009-11-25    118.139547\n",
       "2009-11-27    118.220545\n",
       "2009-11-30    118.327836\n",
       "2009-12-01    118.504039\n",
       "2009-12-02    118.637500\n",
       "2009-12-03    118.780549\n",
       "2009-12-04    118.902474\n",
       "2009-12-07    119.008694\n",
       "2009-12-08    119.098514\n",
       "2009-12-09    119.258099\n",
       "2009-12-10    119.453801\n",
       "2009-12-11    119.656055\n",
       "2009-12-14    119.859662\n",
       "2009-12-15    119.986508\n",
       "2009-12-16    120.117410\n",
       "2009-12-17    120.180951\n",
       "2009-12-18    120.265295\n",
       "2009-12-21    120.379671\n",
       "2009-12-22    120.547979\n",
       "2009-12-23    120.711492\n",
       "2009-12-24    120.893371\n",
       "2009-12-28    121.147353\n",
       "2009-12-29    121.367482\n",
       "2009-12-30    121.610532\n",
       "2009-12-31    121.764164\n",
       "Name: IBM, dtype: float64"
      ]
     },
     "execution_count": 115,
     "metadata": {},
     "output_type": "execute_result"
    }
   ],
   "source": [
    "ibmema40 "
   ]
  },
  {
   "cell_type": "code",
   "execution_count": 119,
   "metadata": {
    "collapsed": false
   },
   "outputs": [
    {
     "data": {
      "text/plain": [
       "2007-12-31     99.270000\n",
       "2008-01-02     96.140000\n",
       "2008-01-03     96.340000\n",
       "2008-01-04     92.870000\n",
       "2008-01-07     91.880000\n",
       "2008-01-08     89.620000\n",
       "2008-01-09     90.280000\n",
       "2008-01-10     91.760000\n",
       "2008-01-11     89.700000\n",
       "2008-01-14     94.530000\n",
       "2008-01-15     93.520000\n",
       "2008-01-16     93.330000\n",
       "2008-01-17     92.850000\n",
       "2008-01-18     94.960000\n",
       "2008-01-22     92.960000\n",
       "2008-01-23     95.200562\n",
       "2008-01-24     94.486872\n",
       "2008-01-25     95.241625\n",
       "2008-01-28     97.405974\n",
       "2008-01-29     94.217354\n",
       "2008-01-30     98.757950\n",
       "2008-01-31     97.995119\n",
       "2008-02-01     96.399321\n",
       "2008-02-04     98.161623\n",
       "2008-02-05     99.210337\n",
       "2008-02-06     98.593525\n",
       "2008-02-07     99.955258\n",
       "2008-02-08    100.196683\n",
       "2008-02-11     98.702471\n",
       "2008-02-12     96.043718\n",
       "                 ...    \n",
       "2009-11-18    124.247457\n",
       "2009-11-19    122.640911\n",
       "2009-11-20    124.093711\n",
       "2009-11-23    127.137373\n",
       "2009-11-24    128.394981\n",
       "2009-11-25    122.789452\n",
       "2009-11-27    122.206368\n",
       "2009-11-30    121.643390\n",
       "2009-12-01    122.839717\n",
       "2009-12-02    126.856464\n",
       "2009-12-03    126.211414\n",
       "2009-12-04    124.640404\n",
       "2009-12-07    123.427477\n",
       "2009-12-08    123.080982\n",
       "2009-12-09    123.248010\n",
       "2009-12-10    124.125741\n",
       "2009-12-11    124.078443\n",
       "2009-12-14    124.517782\n",
       "2009-12-15    124.281252\n",
       "2009-12-16    125.844409\n",
       "2009-12-17    126.769962\n",
       "2009-12-18    127.981885\n",
       "2009-12-21    128.220039\n",
       "2009-12-22    126.801469\n",
       "2009-12-23    127.018914\n",
       "2009-12-24    125.724599\n",
       "2009-12-28    126.231971\n",
       "2009-12-29    126.956787\n",
       "2009-12-30    126.687283\n",
       "2009-12-31    126.758898\n",
       "dtype: float64"
      ]
     },
     "execution_count": 119,
     "metadata": {},
     "output_type": "execute_result"
    }
   ],
   "source": [
    "pd.concat((pibm[:10], ppred))"
   ]
  },
  {
   "cell_type": "code",
   "execution_count": 120,
   "metadata": {
    "collapsed": false
   },
   "outputs": [
    {
     "data": {
      "text/plain": [
       "506"
      ]
     },
     "execution_count": 120,
     "metadata": {},
     "output_type": "execute_result"
    }
   ],
   "source": [
    "pibm.size"
   ]
  },
  {
   "cell_type": "code",
   "execution_count": null,
   "metadata": {
    "collapsed": true
   },
   "outputs": [],
   "source": []
  }
 ],
 "metadata": {
  "kernelspec": {
   "display_name": "Python 2",
   "language": "python",
   "name": "python2"
  },
  "language_info": {
   "codemirror_mode": {
    "name": "ipython",
    "version": 2
   },
   "file_extension": ".py",
   "mimetype": "text/x-python",
   "name": "python",
   "nbconvert_exporter": "python",
   "pygments_lexer": "ipython2",
   "version": "2.7.11"
  },
  "latex_envs": {
   "bibliofile": "biblio.bib",
   "cite_by": "apalike",
   "current_citInitial": 1,
   "eqLabelWithNumbers": true,
   "eqNumInitial": 0
  }
 },
 "nbformat": 4,
 "nbformat_minor": 0
}
