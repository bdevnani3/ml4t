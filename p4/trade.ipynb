{
 "cells": [
  {
   "cell_type": "code",
   "execution_count": 113,
   "metadata": {
    "collapsed": false
   },
   "outputs": [],
   "source": [
    "# %load trade.py\n",
    "import numpy as np\n",
    "import pandas as pd\n",
    "import KNNLearner as knn\n",
    "import LinRegLearner as ll\n",
    "import BagLearner as bl\n",
    "import datetime as dt\n",
    "import matplotlib.pyplot as plt\n",
    "from sklearn import linear_model\n",
    "from util import get_data, plot_data\n",
    "\n",
    "# get price data: Sine, IBM\n",
    "start_date = dt.datetime(2007,12,31)\n",
    "end_date = dt.datetime(2009,12,31)\n",
    "symbols = ['IBM','SINE_FAST','SINE_SLOW','GOOG','AAPL']\n",
    "indates = pd.date_range(start_date, end_date)\n",
    "prices_all = get_data(symbols, indates)\n",
    "\n",
    "pibm = prices_all['IBM']\n",
    "\n",
    "# contruct features X\n",
    "def get_feature(pibm):\n",
    "  mmtn1 = pibm.values[1:]/pibm.values[:-1]-1  \n",
    "  mmtn2 = pibm.values[2:]/pibm.values[:-2]-1\n",
    "  mmtn3 = pibm.values[3:]/pibm.values[:-3]-1\n",
    "  mmtn4 = pibm.values[4:]/pibm.values[:-4]-1\n",
    "  mmtn5 = pibm.values[5:]/pibm.values[:-5]-1\n",
    "  X = pd.DataFrame({'x1':mmtn1[4:][:-5], 'x2':mmtn2[3:][:-5], 'x3':mmtn3[2:][:-5],\\\n",
    "      'x4':mmtn4[1:][:-5], 'x5':mmtn5[:-5]})\n",
    "  return X\n",
    "\n",
    "# construct Y\n",
    "def get_Y(pibm):\n",
    "  Y = pibm.values[5:] \n",
    "  Y = Y[5:]/Y[:-5] - 1\n",
    "  return Y\n",
    "\n",
    "def trade(pfl):\n",
    "  for idx in range(pfl.shape[0]-1):\n",
    "    if pfl['pred'].ix[idx] < pfl['pred'].ix[idx+1]:\n",
    "      if pfl['shares'].ix[idx] <= 0:\n",
    "\tpfl['cash'].ix[idx:] = pfl['cash'].ix[idx] - pfl['price'].ix[idx]*(100 - pfl['shares'].ix[idx])\n",
    "\tpfl['shares'].ix[idx:] = 100\n",
    "    if pfl['pred'].ix[idx] > pfl['pred'].ix[idx+1]:\n",
    "      if pfl['shares'].ix[idx] >= 0:\n",
    "\tpfl['cash'].ix[idx:] = pfl['cash'].ix[idx] + pfl['price'].ix[idx]*(100 + pfl['shares'].ix[idx])\n",
    "\tpfl['shares'].ix[idx:] = -100\n",
    "  pv = pfl['price']*pfl['shares'] + pfl['cash']\n",
    "  return pv\n",
    "\n",
    "\n",
    "#----------------------In-sample test-----------------------------#\n",
    "X = get_feature(pibm)\n",
    "Y = get_Y(pibm)\n",
    "\n",
    "# train\n",
    "clf = linear_model.LinearRegression()\n",
    "clf.fit(X.values,Y)\n",
    "\n",
    "\n",
    "# convert predicted Y back to price, in-sample backtest\n",
    "Ypred = X.values.dot(clf.coef_) + clf.intercept_\n",
    "ppred = pibm.values[10:]*(X.values.dot(clf.coef_) + clf.intercept_ + 1)\n",
    "pdiff = pd.DataFrame(index = pibm.index[10:], data = {'price':pibm.values[10:], 'pred':ppred})\n",
    "plot_data(pdiff)\n",
    "\n",
    "ppred = pd.Series(index = pibm.index[10:], data = ppred)# convert numpy array to pandas.Series\n",
    "\n",
    "# initial portfolio\n",
    "pfl = pd.DataFrame({'price':pibm[10:], 'pred':ppred, 'shares':np.zeros(ppred.size), 'cash':np.ones(ppred.size)*10000})\n",
    "\n",
    "# trading\n",
    "pv = trade(pfl)\n",
    "pspy = prices_all['SPY'][pfl.index]\n",
    "pfl_vs_spy = pd.DataFrame(index = pfl.index, data = {'my_portval':pv/pv.ix[0], 'SPY':pspy/pspy.ix[0]})\n",
    "plot_data(pfl_vs_spy, title = \"My_Portfolio vs SPY\", ylabel = \"Accumulative Return\")\n",
    "\n",
    "\n",
    "#------------------------Out-Sample test---------------------------# \n",
    "tsd = dt.datetime(2009,12,31)\n",
    "ted = dt.datetime(2011,12,31)\n",
    "symbols = ['IBM']\n",
    "outdates = pd.date_range(tsd, ted)\n",
    "tprices = get_data(symbols, outdates)\n",
    "tpibm = tprices['IBM']\n",
    "\n",
    "tX = get_feature(tpibm)\n",
    "# compare to the true price\n",
    "tppred = tpibm.values[10:]*(tX.values.dot(clf.coef_.T) + clf.intercept_ + 1)\n",
    "tpdiff = pd.DataFrame(index = tpibm.index[10:], data = {'price':tpibm.values[10:], 'pred':tppred})\n",
    "plot_data(tpdiff)\n",
    "\n",
    "tpfl = pd.DataFrame({'price':tpibm[10:], 'pred':tppred, 'shares':np.zeros(tppred.size), 'cash':np.ones(tppred.size)*10000})\n",
    "\n",
    "tpv = trade(tpfl)\n",
    "\n",
    "tpspy = tprices['SPY'][tpfl.index]\n",
    "tpfl_vs_tspy = pd.DataFrame(index = tpfl.index, data = {'my_portval':tpv/tpv.ix[0], 'SPY':tpspy/tpspy.ix[0]})\n",
    "plot_data(tpfl_vs_tspy, title = \"My_Portfolio vs SPY\", ylabel = \"Accumulative Return\")\n",
    "\n",
    "\n",
    "\n"
   ]
  },
  {
   "cell_type": "code",
   "execution_count": 125,
   "metadata": {
    "collapsed": false
   },
   "outputs": [],
   "source": [
    "plt.clf()\n",
    "plt.plot(Y)\n",
    "plt.plot(Ypred)\n",
    "plt.show()\n",
    "plt.clf()"
   ]
  },
  {
   "cell_type": "code",
   "execution_count": 124,
   "metadata": {
    "collapsed": false
   },
   "outputs": [],
   "source": [
    "plt.plot(X.values[:,1],Y,'*')\n",
    "plt.show()\n",
    "plt.clf()"
   ]
  },
  {
   "cell_type": "code",
   "execution_count": 115,
   "metadata": {
    "collapsed": false
   },
   "outputs": [
    {
     "name": "stdout",
     "output_type": "stream",
     "text": [
      "[ 0.          0.00201613  0.00201613  0.00403226  0.00403226  0.00604839\n",
      "  0.00604839  0.00806452  0.00806452  0.01008065  0.01008065  0.01209677\n",
      "  0.01209677  0.0141129   0.0141129   0.01612903  0.01612903  0.01814516\n",
      "  0.01814516  0.02016129  0.02016129  0.02217742  0.02217742  0.02419355\n",
      "  0.02419355  0.02620968  0.02620968  0.02822581  0.02822581  0.03024194\n",
      "  0.03024194  0.03225806  0.03225806  0.03427419  0.03427419  0.03629032\n",
      "  0.03629032  0.03830645  0.03830645  0.04032258  0.04032258  0.04233871\n",
      "  0.04233871  0.04435484  0.04435484  0.04637097  0.04637097  0.0483871\n",
      "  0.0483871   0.05040323  0.05040323  0.05241935  0.05241935  0.05443548\n",
      "  0.05443548  0.05645161  0.05645161  0.05846774  0.05846774  0.06048387\n",
      "  0.06048387  0.0625      0.0625      0.06451613  0.06451613  0.06653226\n",
      "  0.06653226  0.06854839  0.06854839  0.07056452  0.07056452  0.07258065\n",
      "  0.07258065  0.07459677  0.07459677  0.0766129   0.0766129   0.07862903\n",
      "  0.07862903  0.08064516  0.08064516  0.08266129  0.08266129  0.08467742\n",
      "  0.08467742  0.08669355  0.08669355  0.08870968  0.08870968  0.09072581\n",
      "  0.09072581  0.09274194  0.09274194  0.09475806  0.09475806  0.09677419\n",
      "  0.09677419  0.09879032  0.09879032  0.10080645  0.10080645  0.10282258\n",
      "  0.10282258  0.10483871  0.10483871  0.10685484  0.10685484  0.10887097\n",
      "  0.10887097  0.1108871   0.1108871   0.11290323  0.11290323  0.11491935\n",
      "  0.11491935  0.11693548  0.11693548  0.11895161  0.11895161  0.12096774\n",
      "  0.12096774  0.12298387  0.12298387  0.125       0.125       0.12701613\n",
      "  0.12701613  0.12903226  0.12903226  0.13104839  0.13104839  0.13306452\n",
      "  0.13306452  0.13508065  0.13508065  0.13709677  0.13709677  0.1391129\n",
      "  0.1391129   0.14112903  0.14112903  0.14314516  0.14314516  0.14516129\n",
      "  0.14516129  0.14717742  0.14717742  0.14919355  0.14919355  0.15120968\n",
      "  0.15120968  0.15322581  0.15322581  0.15524194  0.15524194  0.15725806\n",
      "  0.15725806  0.15927419  0.15927419  0.16129032  0.16129032  0.16330645\n",
      "  0.16330645  0.16532258  0.16532258  0.16733871  0.16733871  0.16935484\n",
      "  0.16935484  0.17137097  0.17137097  0.1733871   0.1733871   0.17540323\n",
      "  0.17540323  0.17741935  0.17741935  0.17943548  0.17943548  0.18145161\n",
      "  0.18145161  0.18346774  0.18346774  0.18548387  0.18548387  0.1875\n",
      "  0.1875      0.18951613  0.18951613  0.19153226  0.19153226  0.19354839\n",
      "  0.19354839  0.19556452  0.19556452  0.19758065  0.19758065  0.19959677\n",
      "  0.19959677  0.2016129   0.2016129   0.20362903  0.20362903  0.20564516\n",
      "  0.20564516  0.20766129  0.20766129  0.20967742  0.20967742  0.21169355\n",
      "  0.21169355  0.21370968  0.21370968  0.21572581  0.21572581  0.21774194\n",
      "  0.21774194  0.21975806  0.21975806  0.22177419  0.22177419  0.22379032\n",
      "  0.22379032  0.22580645  0.22580645  0.22782258  0.22782258  0.22983871\n",
      "  0.22983871  0.23185484  0.23185484  0.23387097  0.23387097  0.2358871\n",
      "  0.2358871   0.23790323  0.23790323  0.23991935  0.23991935  0.24193548\n",
      "  0.24193548  0.24395161  0.24395161  0.24596774  0.24596774  0.24798387\n",
      "  0.24798387  0.25        0.25        0.25201613  0.25201613  0.25403226\n",
      "  0.25403226  0.25604839  0.25604839  0.25806452  0.25806452  0.26008065\n",
      "  0.26008065  0.26209677  0.26209677  0.2641129   0.2641129   0.26612903\n",
      "  0.26612903  0.26814516  0.26814516  0.27016129  0.27016129  0.27217742\n",
      "  0.27217742  0.27419355  0.27419355  0.27620968  0.27620968  0.27822581\n",
      "  0.27822581  0.28024194  0.28024194  0.28225806  0.28225806  0.28427419\n",
      "  0.28427419  0.28629032  0.28629032  0.28830645  0.28830645  0.29032258\n",
      "  0.29032258  0.29233871  0.29233871  0.29435484  0.29435484  0.29637097\n",
      "  0.29637097  0.2983871   0.2983871   0.30040323  0.30040323  0.30241935\n",
      "  0.30241935  0.30443548  0.30443548  0.30645161  0.30645161  0.30846774\n",
      "  0.30846774  0.31048387  0.31048387  0.3125      0.3125      0.31451613\n",
      "  0.31451613  0.31653226  0.31653226  0.31854839  0.31854839  0.32056452\n",
      "  0.32056452  0.32258065  0.32258065  0.32459677  0.32459677  0.3266129\n",
      "  0.3266129   0.32862903  0.32862903  0.33064516  0.33064516  0.33266129\n",
      "  0.33266129  0.33467742  0.33467742  0.33669355  0.33669355  0.33870968\n",
      "  0.33870968  0.34072581  0.34072581  0.34274194  0.34274194  0.34475806\n",
      "  0.34475806  0.34677419  0.34677419  0.34879032  0.34879032  0.35080645\n",
      "  0.35080645  0.35282258  0.35282258  0.35483871  0.35483871  0.35685484\n",
      "  0.35685484  0.35887097  0.35887097  0.3608871   0.3608871   0.36290323\n",
      "  0.36290323  0.36491935  0.36491935  0.36693548  0.36693548  0.36895161\n",
      "  0.36895161  0.37096774  0.37096774  0.37298387  0.37298387  0.375       0.375\n",
      "  0.37701613  0.37701613  0.37903226  0.37903226  0.38104839  0.38104839\n",
      "  0.38306452  0.38306452  0.38508065  0.38508065  0.38709677  0.38709677\n",
      "  0.3891129   0.3891129   0.39112903  0.39112903  0.39314516  0.39314516\n",
      "  0.39516129  0.39516129  0.39717742  0.39717742  0.39919355  0.39919355\n",
      "  0.40120968  0.40120968  0.40322581  0.40322581  0.40524194  0.40524194\n",
      "  0.40725806  0.40725806  0.40927419  0.40927419  0.41129032  0.41129032\n",
      "  0.41330645  0.41330645  0.41532258  0.41532258  0.41733871  0.41733871\n",
      "  0.41935484  0.41935484  0.42137097  0.42137097  0.4233871   0.4233871\n",
      "  0.42540323  0.42540323  0.42741935  0.42741935  0.42943548  0.42943548\n",
      "  0.43145161  0.43145161  0.43346774  0.43346774  0.43548387  0.43548387\n",
      "  0.4375      0.4375      0.43951613  0.43951613  0.44153226  0.44153226\n",
      "  0.44354839  0.44354839  0.44556452  0.44556452  0.44758065  0.44758065\n",
      "  0.44959677  0.44959677  0.4516129   0.4516129   0.45362903  0.45362903\n",
      "  0.45564516  0.45564516  0.45766129  0.45766129  0.45967742  0.45967742\n",
      "  0.46169355  0.46169355  0.46370968  0.46370968  0.46572581  0.46572581\n",
      "  0.46774194  0.46774194  0.46975806  0.46975806  0.47177419  0.47177419\n",
      "  0.47379032  0.47379032  0.47580645  0.47580645  0.47782258  0.47782258\n",
      "  0.47983871  0.47983871  0.48185484  0.48185484  0.48387097  0.48387097\n",
      "  0.4858871   0.4858871   0.48790323  0.48790323  0.48991935  0.48991935\n",
      "  0.49193548  0.49193548  0.49395161  0.49395161  0.49596774  0.49596774\n",
      "  0.49798387  0.49798387  0.5       ]\n"
     ]
    }
   ],
   "source": [
    "freq, spec = spectrum(Y,range(Y.size))\n",
    "print freq\n",
    "plt.plot(spec)\n",
    "plt.show()\n",
    "plt.clf()"
   ]
  },
  {
   "cell_type": "code",
   "execution_count": 110,
   "metadata": {
    "collapsed": false
   },
   "outputs": [
    {
     "data": {
      "text/plain": [
       "array([ 1,  1,  1,  1, 14, 15, 16,  1,  1,  1])"
      ]
     },
     "execution_count": 110,
     "metadata": {},
     "output_type": "execute_result"
    }
   ],
   "source": [
    "f = np.arange(10)\n",
    "ff = np.arange(10,20)\n",
    "np.where(np.logical_and(f>3, f<7), ff, 1)\n",
    "#help(np.where)"
   ]
  },
  {
   "cell_type": "markdown",
   "metadata": {
    "collapsed": true
   },
   "source": [
    "### Reinforcement Learning\n",
    "Regression Learning: historical observation -> predict future value\n",
    "+ noisy\n",
    "+ no confidence level\n",
    "+ no trading decision\n",
    "+ no # of shares\n",
    "\n",
    "Reinforcement Learning: env, state, action, reward(automaton)\n",
    "+ tells you directly what to do"
   ]
  }
 ],
 "metadata": {
  "kernelspec": {
   "display_name": "Python 2",
   "language": "python",
   "name": "python2"
  },
  "language_info": {
   "codemirror_mode": {
    "name": "ipython",
    "version": 2
   },
   "file_extension": ".py",
   "mimetype": "text/x-python",
   "name": "python",
   "nbconvert_exporter": "python",
   "pygments_lexer": "ipython2",
   "version": "2.7.11"
  },
  "latex_envs": {
   "bibliofile": "biblio.bib",
   "cite_by": "apalike",
   "current_citInitial": 1,
   "eqLabelWithNumbers": true,
   "eqNumInitial": 0
  }
 },
 "nbformat": 4,
 "nbformat_minor": 0
}
