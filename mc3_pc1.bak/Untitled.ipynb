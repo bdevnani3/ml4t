{
 "cells": [
  {
   "cell_type": "code",
   "execution_count": 4,
   "metadata": {
    "collapsed": false
   },
   "outputs": [
    {
     "name": "stdout",
     "output_type": "stream",
     "text": [
      "the secret clue is 'zzyzx'\n"
     ]
    }
   ],
   "source": [
    "# %load LinRegLearner.py\n",
    "\"\"\"\n",
    "A simple wrapper for linear regression.  (c) 2015 Tucker Balch\n",
    "\"\"\"\n",
    "\n",
    "import numpy as np\n",
    "\n",
    "class LinRegLearner(object):\n",
    "\n",
    "    def __init__(self, verbose = False):\n",
    "        pass # move along, these aren't the drones you're looking for\n",
    "\n",
    "    def addEvidence(self,dataX,dataY):\n",
    "        \"\"\"\n",
    "        @summary: Add training data to learner\n",
    "        @param dataX: X values of data to add\n",
    "        @param dataY: the Y training values\n",
    "        \"\"\"\n",
    "\n",
    "        # slap on 1s column so linear regression finds a constant term\n",
    "        newdataX = np.ones([dataX.shape[0],dataX.shape[1]+1])\n",
    "        newdataX[:,0:dataX.shape[1]]=dataX\n",
    "\n",
    "        # build and save the model\n",
    "        self.model_coefs, residuals, rank, s = np.linalg.lstsq(newdataX, dataY)\n",
    "        \n",
    "    def query(self,points):\n",
    "        \"\"\"\n",
    "        @summary: Estimate a set of test points given the model we built.\n",
    "        @param points: should be a numpy array with each row corresponding to a specific query.\n",
    "        @returns the estimated values according to the saved model.\n",
    "        \"\"\"\n",
    "        return (self.model_coefs[:-1] * points).sum(axis = 1) + self.model_coefs[-1]\n",
    "\n",
    "if __name__==\"__main__\":\n",
    "    print \"the secret clue is 'zzyzx'\"\n"
   ]
  },
  {
   "cell_type": "code",
   "execution_count": null,
   "metadata": {
    "collapsed": true
   },
   "outputs": [],
   "source": [
    "# %load testlearner.py\n",
    "\"\"\"\n",
    "Test a learner.  (c) 2015 Tucker Balch\n",
    "\"\"\"\n",
    "\n",
    "import numpy as np\n",
    "import math\n",
    "import LinRegLearner as lrl\n",
    "\n",
    "if __name__==\"__main__\":\n",
    "    inf = open('Data/ripple.csv')\n",
    "    data = np.array([map(float,s.strip().split(',')) for s in inf.readlines()])\n",
    "\n",
    "    # compute how much of the data is training and testing\n",
    "    train_rows = math.floor(0.6* data.shape[0])\n",
    "    test_rows = data.shape[0] - train_rows\n",
    "\n",
    "    # separate out training and testing data\n",
    "    trainX = data[:train_rows,0:-1]\n",
    "    trainY = data[:train_rows,-1]\n",
    "    testX = data[train_rows:,0:-1]\n",
    "    testY = data[train_rows:,-1]\n",
    "\n",
    "    print testX.shape\n",
    "    print testY.shape\n",
    "\n",
    "    # create a learner and train it\n",
    "    learner = lrl.LinRegLearner(verbose = True) # create a LinRegLearner\n",
    "    learner.addEvidence(trainX, trainY) # train it\n",
    "\n",
    "    # evaluate in sample\n",
    "    predY = learner.query(trainX) # get the predictions\n",
    "    rmse = math.sqrt(((trainY - predY) ** 2).sum()/trainY.shape[0])\n",
    "    print\n",
    "    print \"In sample results\"\n",
    "    print \"RMSE: \", rmse\n",
    "    c = np.corrcoef(predY, y=trainY)\n",
    "    print \"corr: \", c[0,1]\n",
    "\n",
    "    # evaluate out of sample\n",
    "    predY = learner.query(testX) # get the predictions\n",
    "    rmse = math.sqrt(((testY - predY) ** 2).sum()/testY.shape[0])\n",
    "    print\n",
    "    print \"Out of sample results\"\n",
    "    print \"RMSE: \", rmse\n",
    "    c = np.corrcoef(predY, y=testY)\n",
    "    print \"corr: \", c[0,1]\n",
    "\n",
    "    #learners = []\n",
    "    #for i in range(0,10):\n",
    "        #kwargs = {\"k\":i}\n",
    "        #learners.append(lrl.LinRegLearner(**kwargs))\n"
   ]
  },
  {
   "cell_type": "code",
   "execution_count": 7,
   "metadata": {
    "collapsed": false
   },
   "outputs": [
    {
     "data": {
      "text/plain": [
       "{'a': '6', 'b': '7'}"
      ]
     },
     "execution_count": 7,
     "metadata": {},
     "output_type": "execute_result"
    }
   ],
   "source": [
    " dict(a='6',b='7')"
   ]
  },
  {
   "cell_type": "code",
   "execution_count": 13,
   "metadata": {
    "collapsed": false
   },
   "outputs": [],
   "source": [
    "a = np.random.random((5,5))"
   ]
  },
  {
   "cell_type": "code",
   "execution_count": 14,
   "metadata": {
    "collapsed": false
   },
   "outputs": [
    {
     "data": {
      "text/plain": [
       "array([[ 0.60096922,  0.52337591,  0.91874355,  0.76102785,  0.56455702],\n",
       "       [ 0.63086049,  0.88606088,  0.61661155,  0.2624461 ,  0.24583625],\n",
       "       [ 0.01973378,  0.2772443 ,  0.62400951,  0.73075216,  0.45881075],\n",
       "       [ 0.22760621,  0.44380852,  0.84897319,  0.41005337,  0.14408671],\n",
       "       [ 0.4859172 ,  0.44626881,  0.02020651,  0.61070284,  0.61850924]])"
      ]
     },
     "execution_count": 14,
     "metadata": {},
     "output_type": "execute_result"
    }
   ],
   "source": [
    "a"
   ]
  },
  {
   "cell_type": "code",
   "execution_count": 16,
   "metadata": {
    "collapsed": false
   },
   "outputs": [
    {
     "data": {
      "text/plain": [
       "array([ 0.39301738,  0.51535169,  0.60570886,  0.55499646,  0.40635999])"
      ]
     },
     "execution_count": 16,
     "metadata": {},
     "output_type": "execute_result"
    }
   ],
   "source": [
    "a.mean(axis = 0)"
   ]
  },
  {
   "cell_type": "code",
   "execution_count": 18,
   "metadata": {
    "collapsed": false
   },
   "outputs": [
    {
     "data": {
      "text/plain": [
       "array([  5.85895073,  -3.8183966 ,   6.329727  ,  -6.98604677,\n",
       "        -6.14053172,   2.36659603,   3.86668298,   1.733075  ,\n",
       "        -0.09228146,  -2.45260826,   4.22871329,   5.80890507,\n",
       "         7.53110918,  -7.6109338 ,  -2.12253727,   4.56736187,\n",
       "         2.35359602,   3.38778883,  -2.2724162 ,  -8.9061816 ,\n",
       "        -0.68216519,  -4.80531501,  -5.66226691,  -5.00461601,\n",
       "        -0.32589687,   0.73597768,  -7.34531348,   3.39512039,\n",
       "        -5.27172539,  -1.12524847,   0.37580551,  -5.23132544,\n",
       "         4.44999466,  -6.37832277,  -7.67411802,  -0.79947696,\n",
       "         1.32454129,   2.86676807,   2.1174278 ,  -5.0071728 ,\n",
       "        -4.11866313,   4.51180757,   1.37091041,  -0.17085355,\n",
       "        -2.60851525,   6.53724333,   7.02397721,  -4.57015299,\n",
       "         0.90318312,  -0.23179443,  -8.51018714,  -1.73397673,\n",
       "        -1.3773961 , -10.67278314,  -3.81447756,  -7.48950398,\n",
       "         3.05657174,   2.59006565,  -7.34350663,   0.89428649,\n",
       "         2.74328734,  -2.91800882,   0.17205785,   0.83595073,\n",
       "        -0.67668491,  -1.01231982,   3.3244715 ,   0.61837185,\n",
       "         3.84561866,  -2.66905637,  -2.86369404,  -0.1489066 ,\n",
       "        -0.94412515,   2.1668206 ,   1.26972505,  -8.189318  ,\n",
       "        -1.64729417,   5.62661423,   4.85405043,  -2.43519381,\n",
       "         2.46185603,   1.56392931,   0.80945297,  -2.56448005,\n",
       "        -0.17488529,   2.69699672,  -1.58917891,  -9.34759342,\n",
       "        -6.55845757,  -2.4885617 ,  -2.80527526,  -4.85692347,\n",
       "        -4.4147393 ,   5.57342786,   9.24478315,  -1.81430187,\n",
       "         3.79915404,   2.2645528 ,   0.52427554,  -1.74251412])"
      ]
     },
     "execution_count": 18,
     "metadata": {},
     "output_type": "execute_result"
    }
   ],
   "source": [
    "np.random.randn(100)*5"
   ]
  },
  {
   "cell_type": "code",
   "execution_count": 22,
   "metadata": {
    "collapsed": false
   },
   "outputs": [
    {
     "name": "stdout",
     "output_type": "stream",
     "text": [
      "[ 0.2  0.7  1. ]\n"
     ]
    }
   ],
   "source": [
    "v = np.array([1,2,3])\n",
    "p = np.array([0.2,0.5,0.3])\n",
    "bins = np.cumsum(p)\n",
    "print bins"
   ]
  },
  {
   "cell_type": "code",
   "execution_count": 23,
   "metadata": {
    "collapsed": false
   },
   "outputs": [
    {
     "name": "stdout",
     "output_type": "stream",
     "text": [
      "Help on built-in function random_sample:\n",
      "\n",
      "random_sample(...)\n",
      "    random_sample(size=None)\n",
      "    \n",
      "    Return random floats in the half-open interval [0.0, 1.0).\n",
      "    \n",
      "    Results are from the \"continuous uniform\" distribution over the\n",
      "    stated interval.  To sample :math:`Unif[a, b), b > a` multiply\n",
      "    the output of `random_sample` by `(b-a)` and add `a`::\n",
      "    \n",
      "      (b - a) * random_sample() + a\n",
      "    \n",
      "    Parameters\n",
      "    ----------\n",
      "    size : int or tuple of ints, optional\n",
      "        Output shape.  If the given shape is, e.g., ``(m, n, k)``, then\n",
      "        ``m * n * k`` samples are drawn.  Default is None, in which case a\n",
      "        single value is returned.\n",
      "    \n",
      "    Returns\n",
      "    -------\n",
      "    out : float or ndarray of floats\n",
      "        Array of random floats of shape `size` (unless ``size=None``, in which\n",
      "        case a single float is returned).\n",
      "    \n",
      "    Examples\n",
      "    --------\n",
      "    >>> np.random.random_sample()\n",
      "    0.47108547995356098\n",
      "    >>> type(np.random.random_sample())\n",
      "    <type 'float'>\n",
      "    >>> np.random.random_sample((5,))\n",
      "    array([ 0.30220482,  0.86820401,  0.1654503 ,  0.11659149,  0.54323428])\n",
      "    \n",
      "    Three-by-two array of random numbers from [-5, 0):\n",
      "    \n",
      "    >>> 5 * np.random.random_sample((3, 2)) - 5\n",
      "    array([[-3.99149989, -0.52338984],\n",
      "           [-2.99091858, -0.79479508],\n",
      "           [-1.23204345, -1.75224494]])\n",
      "\n"
     ]
    }
   ],
   "source": [
    "help(np.random.random_sample)"
   ]
  },
  {
   "cell_type": "code",
   "execution_count": 25,
   "metadata": {
    "collapsed": false
   },
   "outputs": [
    {
     "data": {
      "text/plain": [
       "0.80000000000000004"
      ]
     },
     "execution_count": 25,
     "metadata": {},
     "output_type": "execute_result"
    }
   ],
   "source": [
    "np.power(0.64,0.5)"
   ]
  },
  {
   "cell_type": "code",
   "execution_count": 29,
   "metadata": {
    "collapsed": false
   },
   "outputs": [
    {
     "data": {
      "text/plain": [
       "array([1, 1, 1, 1, 1])"
      ]
     },
     "execution_count": 29,
     "metadata": {},
     "output_type": "execute_result"
    }
   ],
   "source": [
    "np.ones(5, dtype = 'int')"
   ]
  },
  {
   "cell_type": "code",
   "execution_count": null,
   "metadata": {
    "collapsed": true
   },
   "outputs": [],
   "source": []
  }
 ],
 "metadata": {
  "kernelspec": {
   "display_name": "Python 2",
   "language": "python",
   "name": "python2"
  },
  "language_info": {
   "codemirror_mode": {
    "name": "ipython",
    "version": 2
   },
   "file_extension": ".py",
   "mimetype": "text/x-python",
   "name": "python",
   "nbconvert_exporter": "python",
   "pygments_lexer": "ipython2",
   "version": "2.7.11"
  },
  "latex_envs": {
   "bibliofile": "biblio.bib",
   "cite_by": "apalike",
   "current_citInitial": 1,
   "eqLabelWithNumbers": true,
   "eqNumInitial": 0
  }
 },
 "nbformat": 4,
 "nbformat_minor": 0
}
