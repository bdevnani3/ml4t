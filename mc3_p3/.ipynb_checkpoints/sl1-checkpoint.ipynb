{
 "cells": [
  {
   "cell_type": "code",
   "execution_count": 282,
   "metadata": {
    "collapsed": false
   },
   "outputs": [
    {
     "name": "stdout",
     "output_type": "stream",
     "text": [
      "One does not simply think up a strategy\n"
     ]
    }
   ],
   "source": [
    "# %load StrategyLearner.py\n",
    "\"\"\"\n",
    "Template for implementing StrategyLearner  (c) 2016 Tucker Balch\n",
    "\"\"\"\n",
    "import numpy as np\n",
    "import datetime as dt\n",
    "import QLearner as ql\n",
    "import pandas as pd\n",
    "import util as ut\n",
    "\n",
    "class StrategyLearner(object):\n",
    "\n",
    "    # constructor\n",
    "    def __init__(self, verbose = False):\n",
    "        self.verbose = verbose\n",
    "\n",
    "    def get_feat(self, p):\n",
    "        mmtn = pd.Series(index = p.index[1:], data = (p.values[1:]/p.values[:-1] - 1).flatten())\n",
    "        accel = pd.Series(index = p.index[2:], data = mmtn[1:].values/mmtn[:-1].values - 1)\n",
    "\n",
    "        sma20 = p.rolling(window = 20, min_periods = 0)\n",
    "        sma20_mean = sma20.mean()\n",
    "        sma20_std = sma20.std()\n",
    "        bbup = sma20_mean + 2 * sma20_std\n",
    "        bblow = sma20_mean - 2 * sma20_std\n",
    "        bbvals = (p[1:] - sma20_mean[1:])/(4 * sma20_std[1:])\n",
    "        vtl_raw = sma20_std[1:]\n",
    "        vtl = sma20_std[1:]/sma20_mean[1:]\n",
    "        sma20_mmtn = pd.Series(index = p.index[1:], data = (sma20_mean[1:].values/sma20_mean[:-1].values - 1).flatten())\n",
    "        sma20_accel = pd.Series(index = p.index[2:], data = sma20_mmtn[1:].values/sma20_mmtn[:-1].values - 1)\n",
    "\n",
    "        ema15 = p.ewm(span = 15, min_periods = 0)\n",
    "        ema15_mean = ema15.mean()\n",
    "        ema15_std = ema15.std()\n",
    "        ema15_mmtn = pd.Series(index = p.index[1:], data = (ema15_mean[1:].values/ema15_mean[:-1].values - 1).flatten())\n",
    "        ema15_accel = pd.Series(index = p.index[2:], data = ema15_mmtn[1:].values/ema15_mmtn[:-1].values - 1)\n",
    "        ema40 = p.ewm(span = 40, min_periods = 0)\n",
    "        ema40_mean = ema40.mean()\n",
    "        ema40_std = ema40.std()\n",
    "        ema40_mmtn = pd.Series(index = p.index[1:], data = (ema40_mean[1:].values/ema40_mean[:-1].values - 1).flatten())\n",
    "        ema40_accel = pd.Series(index = p.index[2:], data = ema40_mmtn[1:].values/ema40_mmtn[:-1].values - 1)\n",
    "        macd = ema15_mean - ema40_mean\n",
    "\n",
    "\n",
    "        feats = pd.DataFrame({\n",
    "                'price':p['IBM'][2:],\\\n",
    "                'mmtn':mmtn[1:],\\\n",
    "                'accel':accel,\\\n",
    "                'sma20_mean':sma20_mean['IBM'][2:],\\\n",
    "                'sma20_std':sma20_std['IBM'][2:],\\\n",
    "                'bbup':bbup['IBM'][2:],\\\n",
    "                'bblow':bblow['IBM'][2:],\\\n",
    "                'bbvals':bbvals['IBM'][1:],\\\n",
    "                'vtl_raw':vtl['IBM'][1:],\\\n",
    "                'vtl':vtl['IBM'][1:],\\\n",
    "                'sma20_mmtn':sma20_mmtn[1:],\\\n",
    "                'sma20_accel': sma20_accel,\\\n",
    "                'ema15_mean': ema15_mean['IBM'][2:],\\\n",
    "                'ema15_std': ema15_std['IBM'][2:],\\\n",
    "                'ema15_mmtn': ema15_mmtn[1:],\\\n",
    "                'ema15_accel': ema15_accel,\\\n",
    "                'ema40_mean':ema40_mean['IBM'][2:],\\\n",
    "                'ema40_std':ema40_std['IBM'][2:],\\\n",
    "                'ema40_mmtn':ema40_mmtn[1:],\\\n",
    "                'ema40_accel':ema40_accel,\\\n",
    "                'macd':macd['IBM'][2:]})\n",
    "        return feats\n",
    "\n",
    "    def discretize(self, feats):\n",
    "        # discretize features and construct states\n",
    "        # one state per day\n",
    "        x8 = (feats['mmtn'].values > 0).astype('int') # mmtn_sign \n",
    "        x7 = (np.abs(feats['mmtn'].values) >= 0.01).astype('int')#mmtn_mags  \n",
    "        x6 = (feats['bbvals'].values > 0).astype('int') #bb_sign \n",
    "        x5 = (np.abs(feats['bbvals'].values) >= 0.5).astype('int') #bb_vals \n",
    "        x4 = (feats['macd'].values > 0).astype('int') #macd of today\n",
    "        x3 = np.zeros(x4.size).astype('int') \n",
    "        x3[1:] = x4[:-1]#macd of yesterday\n",
    "        x2 = (np.abs(feats['vtl'].values) >= 0.03).astype('int') #vtl \n",
    "        x1 = np.zeros(x3.size).astype('int') # Holding: needs two bits to represnt, 0, 1, 2\n",
    "        return pd.DataFrame(index = feats.index, data = {'state': (x8<<8) + (x7<<7) + (x6<<6) + (x5<<5) + (x4<<4) + (x3<<3) + (x2<<2) + x1}) \n",
    "        \n",
    "\n",
    "                \n",
    "    # this method should create a QLearner, and train it for trading\n",
    "    def addEvidence(self, symbol = \"IBM\", \\\n",
    "        sd=dt.datetime(2008,1,1), \\\n",
    "        ed=dt.datetime(2009,1,1), \\\n",
    "        sv = 10000): \n",
    "        \n",
    "        # add your code to do learning here\n",
    "        self.ql= ql.QLearner(num_states = 511, num_actions = 5,rar = 0.9, radr = 0.999)\n",
    "\n",
    "        # example usage of the old backward compatible util function\n",
    "        syms=[symbol]\n",
    "        dates = pd.date_range(sd, ed)\n",
    "        prices_all = ut.get_data(syms, dates)  # automatically adds SPY\n",
    "        prices = prices_all[syms]  # only portfolio symbols\n",
    "        prices_SPY = prices_all['SPY']  # only SPY, for comparison later\n",
    "        \n",
    "        feats = self.get_feat(prices)\n",
    "        S_init = self.discretize(feats) # states of price(i.e., states with 0 shares bought)\n",
    "        idx = feats.index\n",
    "        pfl = pd.DataFrame(index = idx, data = {'price':prices_all[symbol][idx].values,\\\n",
    "                                                'shares':np.zeros(len(idx)),\\\n",
    "                                                'cash':sv*np.ones(len(idx)),\\\n",
    "                                                'portval':np.zeros(len(idx))})\n",
    "        s = S_init\n",
    "        action = choose_action(s, pfl)\n",
    "        \n",
    "        \n",
    "        \n",
    "\n",
    "        if self.verbose: print prices\n",
    "  \n",
    "        # example use with new colname \n",
    "        volume_all = ut.get_data(syms, dates, colname = \"Volume\")  # automatically adds SPY\n",
    "        volume = volume_all[syms]  # only portfolio symbols\n",
    "        volume_SPY = volume_all['SPY']  # only SPY, for comparison later\n",
    "        if self.verbose: print volume\n",
    "\n",
    "    # this method should use the existing policy and test it against new data\n",
    "    def testPolicy(self, symbol = \"IBM\", \\\n",
    "        sd=dt.datetime(2009,1,1), \\\n",
    "        ed=dt.datetime(2010,1,1), \\\n",
    "        sv = 10000):\n",
    "\n",
    "        # here we build a fake set of trades\n",
    "        # your code should return the same sort of data\n",
    "        dates = pd.date_range(sd, ed)\n",
    "        prices_all = ut.get_data([symbol], dates)  # automatically adds SPY\n",
    "        trades = prices_all[[symbol,]]  # only portfolio symbols\n",
    "        trades_SPY = prices_all['SPY']  # only SPY, for comparison later\n",
    "        trades.values[:,:] = 0 # set them all to nothing\n",
    "        trades.values[3,:] = 100 # add a BUY at the 4th date\n",
    "        trades.values[5,:] = -100 # add a SELL at the 6th date \n",
    "        trades.values[6,:] = -100 # add a SELL at the 7th date \n",
    "        trades.values[8,:] = -100 # add a SELL at the 9th date\n",
    "        if self.verbose: print type(trades) # it better be a DataFrame!\n",
    "        if self.verbose: print trades\n",
    "        if self.verbose: print prices_all\n",
    "        return trades\n",
    "\n",
    "if __name__==\"__main__\":\n",
    "    print \"One does not simply think up a strategy\"\n"
   ]
  },
  {
   "cell_type": "code",
   "execution_count": 5,
   "metadata": {
    "collapsed": false
   },
   "outputs": [
    {
     "name": "stdout",
     "output_type": "stream",
     "text": [
      "Help on function get_data in module util:\n",
      "\n",
      "get_data(symbols, dates, addSPY=True, colname='Adj Close')\n",
      "    Read stock data (adjusted close) for given symbols from CSV files.\n",
      "\n"
     ]
    }
   ],
   "source": [
    "help(ut.get_data)"
   ]
  },
  {
   "cell_type": "code",
   "execution_count": 56,
   "metadata": {
    "collapsed": true
   },
   "outputs": [],
   "source": [
    "symbol = \"IBM\"\n",
    "sd=dt.datetime(2008,1,1)\n",
    "ed=dt.datetime(2009,1,1)\n",
    "syms=[symbol]\n",
    "dates = pd.date_range(sd, ed)\n",
    "prices_all = ut.get_data(syms, dates)  # automatically adds SPY\n",
    "p = prices_all[syms]  # only portfolio symbols\n",
    "prices_SPY = prices_all['SPY']  # only SPY, for comparison later`   "
   ]
  },
  {
   "cell_type": "code",
   "execution_count": 133,
   "metadata": {
    "collapsed": false
   },
   "outputs": [],
   "source": [
    "mmtn = pd.Series(index = p.index[1:], data = (p.values[1:]/p.values[:-1] - 1).flatten())\n",
    "accel = pd.Series(index = p.index[2:], data = mmtn[1:].values/mmtn[:-1].values - 1)\n",
    "\n",
    "sma20 = p.rolling(window = 20, min_periods = 0)\n",
    "sma20_mean = sma20.mean()\n",
    "sma20_std = sma20.std()\n",
    "bbup = sma20_mean + 2 * sma20_std\n",
    "bblow = sma20_mean - 2 * sma20_std\n",
    "bbvals = (p[1:] - sma20_mean[1:])/(4 * sma20_std[1:])\n",
    "vtl_raw = sma20_std[1:]\n",
    "vtl = sma20_std[1:]/sma20_mean[1:]\n",
    "sma20_mmtn = pd.Series(index = p.index[1:], data = (sma20_mean[1:].values/sma20_mean[:-1].values - 1).flatten())\n",
    "sma20_accel = pd.Series(index = p.index[2:], data = sma20_mmtn[1:].values/sma20_mmtn[:-1].values - 1)\n",
    "\n",
    "ema15 = p.ewm(span = 15, min_periods = 0)\n",
    "ema15_mean = ema15.mean()\n",
    "ema15_std = ema15.std()\n",
    "ema15_mmtn = pd.Series(index = p.index[1:], data = (ema15_mean[1:].values/ema15_mean[:-1].values - 1).flatten())\n",
    "ema15_accel = pd.Series(index = p.index[2:], data = ema15_mmtn[1:].values/ema15_mmtn[:-1].values - 1)\n",
    "ema40 = p.ewm(span = 40, min_periods = 0)\n",
    "ema40_mean = ema40.mean()\n",
    "ema40_std = ema40.std()\n",
    "ema40_mmtn = pd.Series(index = p.index[1:], data = (ema40_mean[1:].values/ema40_mean[:-1].values - 1).flatten())\n",
    "ema40_accel = pd.Series(index = p.index[2:], data = ema40_mmtn[1:].values/ema40_mmtn[:-1].values - 1)\n",
    "macd = ema15_mean - ema40_mean\n",
    "\n",
    "\n",
    "feats = pd.DataFrame({\n",
    "        'price':p['IBM'][2:],\\\n",
    "        'mmtn':mmtn[1:],\\\n",
    "        'accel':accel,\\\n",
    "        'sma20_mean':sma20_mean['IBM'][2:],\\\n",
    "        'sma20_std':sma20_std['IBM'][2:],\\\n",
    "        'bbup':bbup['IBM'][2:],\\\n",
    "        'bblow':bblow['IBM'][2:],\\\n",
    "        'bbvals':bbvals['IBM'][1:],\\\n",
    "        'vtl_raw':vtl['IBM'][1:],\\\n",
    "        'vtl':vtl['IBM'][1:],\\\n",
    "        'sma20_mmtn':sma20_mmtn[1:],\\\n",
    "        'sma20_accel': sma20_accel,\\\n",
    "        'ema15_mean': ema15_mean['IBM'][2:],\\\n",
    "        'ema15_std': ema15_std['IBM'][2:],\\\n",
    "        'ema15_mmtn': ema15_mmtn[1:],\\\n",
    "        'ema15_accel': ema15_accel,\\\n",
    "        'ema40_mean':ema40_mean['IBM'][2:],\\\n",
    "        'ema40_std':ema40_std['IBM'][2:],\\\n",
    "        'ema40_mmtn':ema40_mmtn[1:],\\\n",
    "        'ema40_accel':ema40_accel,\\\n",
    "        'macd':macd['IBM'][2:]\n",
    "    })"
   ]
  },
  {
   "cell_type": "code",
   "execution_count": null,
   "metadata": {
    "collapsed": true
   },
   "outputs": [],
   "source": []
  },
  {
   "cell_type": "code",
   "execution_count": 102,
   "metadata": {
    "collapsed": false
   },
   "outputs": [],
   "source": [
    "feats.drop(['accel','bblow','bbup'], axis = 1)"
   ]
  },
  {
   "cell_type": "code",
   "execution_count": 103,
   "metadata": {
    "collapsed": false
   },
   "outputs": [
    {
     "data": {
      "text/plain": [
       "Index([u'accel', u'bblow', u'bbup', u'bbvals', u'ema15_accel', u'ema15_mean',\n",
       "       u'ema15_mmtn', u'ema15_std', u'ema40_accel', u'ema40_mean',\n",
       "       u'ema40_mmtn', u'ema40_std', u'macd', u'mmtn', u'price', u'sma20_accel',\n",
       "       u'sma20_mean', u'sma20_mmtn', u'sma20_std', u'vtl'],\n",
       "      dtype='object')"
      ]
     },
     "execution_count": 103,
     "metadata": {},
     "output_type": "execute_result"
    }
   ],
   "source": [
    "feats.keys()"
   ]
  },
  {
   "cell_type": "code",
   "execution_count": 121,
   "metadata": {
    "collapsed": true
   },
   "outputs": [],
   "source": [
    "ut.plot_data(feats[['price','ema15_mean', 'ema40_mean']])\n",
    "ut.plot_data(feats[['sma20_mmtn']])\n",
    "ut.plot_data(feats[['sma20_accel']])\n",
    "ut.plot_data(feats[['ema15_mmtn']])\n",
    "ut.plot_data(feats[['ema15_accel']])\n",
    "ut.plot_data(feats['macd'])\n",
    "\n",
    "plt.clf()\n",
    "shifted = feats['macd'].values + feats['macd'].values.min()\n",
    "normalized = shifted/shifted[0]\n",
    "nprice = feats['price'].values/feats['price'].values[0] - 1\n",
    "plt.plot(feats.index, feats['macd'].values/np.abs(feats['macd'].values).max(), label = 'normalized macd')\n",
    "plt.plot(feats.index, nprice, label = 'normalized price')\n",
    "plt.axhline(y = 0)\n",
    "plt.legend()\n",
    "plt.show()\n",
    "\n",
    "plt.clf()\n",
    "plt.plot(feats.index, feats['vtl'],'r.')\n",
    "plt.show()\n",
    "plt.clf()\n",
    "\n",
    "plt.clf()\n",
    "plt.hist(np.abs(feats['mmtn']), bins=2)\n",
    "plt.show()\n",
    "plt.clf()\n",
    "\n",
    "plt.clf()\n",
    "plt.hist(np.abs(feats['bbvals']), bins=2)\n",
    "plt.show()\n",
    "plt.clf()\n",
    "\n",
    "plt.clf()\n",
    "_, bins, _ = plt.hist(feats['vtl'], bins=4)\n",
    "plt.show()\n",
    "plt.clf()"
   ]
  },
  {
   "cell_type": "code",
   "execution_count": 220,
   "metadata": {
    "collapsed": false
   },
   "outputs": [
    {
     "data": {
      "text/plain": [
       "0.02626898424547011"
      ]
     },
     "execution_count": 220,
     "metadata": {},
     "output_type": "execute_result"
    }
   ],
   "source": [
    "feats['vtl'].median()"
   ]
  },
  {
   "cell_type": "code",
   "execution_count": 265,
   "metadata": {
    "collapsed": true
   },
   "outputs": [],
   "source": [
    "def discretize(feats):\n",
    "    x8 = (feats['mmtn'].values > 0).astype('int') # mmtn_sign \n",
    "    x7 = (np.abs(feats['mmtn'].values) >= 0.01).astype('int')#mmtn_mags  \n",
    "    x6 = (feats['bbvals'].values > 0).astype('int') #bb_sign \n",
    "    x5 = (np.abs(feats['bbvals'].values) >= 0.5).astype('int') #bb_vals \n",
    "    x4 = (feats['macd'].values > 0).astype('int') #macd of today\n",
    "    x3 = np.zeros(x4.size).astype('int') \n",
    "    x3[1:] = x4[:-1]#macd of yesterday\n",
    "    x2 = (np.abs(feats['vtl'].values) >= 0.03).astype('int') #vtl \n",
    "    x1 = np.zeros(x3.size).astype('int') # Holding: needs two bits to represnt, 0, 1, 2\n",
    "    return pd.DataFrame(index = feats.index, data = {'state': (x8<<8) + (x7<<7) + (x6<<6) + (x5<<5) + (x4<<4) + (x3<<3) + (x2<<2) + x1})    "
   ]
  },
  {
   "cell_type": "code",
   "execution_count": 277,
   "metadata": {
    "collapsed": true
   },
   "outputs": [],
   "source": [
    "S = discretize(feats)"
   ]
  },
  {
   "cell_type": "code",
   "execution_count": 281,
   "metadata": {
    "collapsed": false
   },
   "outputs": [
    {
     "data": {
      "text/plain": [
       "1"
      ]
     },
     "execution_count": 281,
     "metadata": {},
     "output_type": "execute_result"
    }
   ],
   "source": [
    "np.where(S == S.max())[0].size"
   ]
  },
  {
   "cell_type": "code",
   "execution_count": null,
   "metadata": {
    "collapsed": true
   },
   "outputs": [],
   "source": []
  }
 ],
 "metadata": {
  "kernelspec": {
   "display_name": "Python 2",
   "language": "python",
   "name": "python2"
  },
  "language_info": {
   "codemirror_mode": {
    "name": "ipython",
    "version": 2
   },
   "file_extension": ".py",
   "mimetype": "text/x-python",
   "name": "python",
   "nbconvert_exporter": "python",
   "pygments_lexer": "ipython2",
   "version": "2.7.11"
  },
  "latex_envs": {
   "bibliofile": "biblio.bib",
   "cite_by": "apalike",
   "current_citInitial": 1,
   "eqLabelWithNumbers": true,
   "eqNumInitial": 0
  }
 },
 "nbformat": 4,
 "nbformat_minor": 0
}
